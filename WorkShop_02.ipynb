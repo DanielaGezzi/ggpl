{
 "cells": [
  {
   "cell_type": "markdown",
   "metadata": {},
   "source": [
    "# WorkShop_02\n",
    "\n",
    "## Immagine di riferimento"
   ]
  },
  {
   "cell_type": "markdown",
   "metadata": {},
   "source": [
    "<img src = \"./esempioStruttura.jpg\">"
   ]
  },
  {
   "cell_type": "code",
   "execution_count": 19,
   "metadata": {
    "collapsed": false
   },
   "outputs": [],
   "source": [
    "\"\"\"ggpl_bone_structure è una funzione che dato un file .csv del tipo:\n",
    "\n",
    "0,0,0\n",
    "1.,1.|1.,1.|3.,5.,3.,5.,3.,5.,3.,5.,3.|6.,3.,6.,3.,6.,3.,6.,3.\n",
    "6.0,0,0\n",
    "1.,1.|1.,1.|3.,5.,3.,5.,3.,5.,3.,5.,3.|6.,3.,6.,3.,6.,3.,6.,3.\n",
    "\n",
    "in cui:\n",
    "- le righe dispari indicano il vettore 3D che individua l'origine del telaio successivo, rispetto a quello precedente\n",
    "- le righe pari, separate da \"|\", indicano tuple e liste necessarie alla costruzione del telaio tramite la funzione del\n",
    "workshop precedente.\n",
    "\n",
    "restituisce la struttura 3D completa di un edificio in cemento armato.\n",
    "\"\"\""
   ]
  },
  {
   "cell_type": "code",
   "execution_count": 12,
   "metadata": {
    "collapsed": false
   },
   "outputs": [
    {
     "data": {
      "text/plain": [
       "<pyplasm.xgepy.Hpc; proxy of <Swig Object of type 'std::shared_ptr< Hpc > *' at 0x000000001C98AC60> >"
      ]
     },
     "execution_count": 12,
     "metadata": {},
     "output_type": "execute_result"
    }
   ],
   "source": [
    "from larlib import *\n",
    "import csv\n",
    "\n",
    "def ggpl_bone_structure(file_name):\n",
    "    \n",
    "    \"\"\"funzione del workshop_01\n",
    "    createFrame è una funzione che dati:\n",
    "\n",
    "    @pillarXY = (px,py) -> sezione di un pilastro sul piano XY \n",
    "    @beamXZ = (bx,bz) -> sezione di una trave sul piano XZ\n",
    "    @pillarDis = [dx1,dx2 ...] = lista delle distanze tra assi dei pilastri per ogni coppia di pilastri\n",
    "    @beamDis = [hz1, hz2 ...] = lista delle distanze fra le parti superiori delle travi per ogni coppiadi travi\n",
    "    \n",
    "    restituisce un telaio in cemento armato di una parete di un edificio\n",
    "    \"\"\"\n",
    "    \n",
    "    def createFrame(pillarXY = (1.,1.),\n",
    "                    beamXZ = (1.,1.),\n",
    "                    pillarDis = [3.,5.,3.,5.,3.,5.,3.,5.,3.],\n",
    "                    beamDis = [6.,3.,6.,3.,6.,3.,6.,3.]):\n",
    "    \n",
    "        \"\"\"le misure delle fondamenta, centrate sull'asse del pilastro, \n",
    "        sono costruite a partire dalle misure del pilastro come segue:\n",
    "        footing(fx,fy) = (px+1,py+1)\n",
    "        \"\"\"\n",
    "        footingXY = tuple(map(lambda x:x+1, pillarXY))\n",
    "\n",
    "        footingX = [footingXY[0]]\n",
    "        footingY = [footingXY[1]]\n",
    "        pillarX = [pillarXY[0]/2-footingXY[0]/2, pillarXY[0]]\n",
    "        pillarY = [pillarXY[1]/2-footingXY[1]/2, pillarXY[1]]\n",
    "        beamX = [beamXZ[0]/2-footingXY[0]/2, beamXZ[0]]\n",
    "        beamY = [pillarXY[1]/2-footingXY[1]/2]\n",
    "        \n",
    "        \"\"\"a partire dalle distanze tra piloni costruisco le liste di pieni/vuoti che costituiscono la\n",
    "        struttura 2D sugli assi X e Y del telaio\"\"\"\n",
    "        for disP in pillarDis:\n",
    "            footingY.extend([footingXY[1]-disP,footingXY[1]])\n",
    "            pillarY.extend([pillarXY[1]-disP,pillarXY[1]])\n",
    "            beamY.extend([-pillarXY[1], disP - pillarXY[1]])\n",
    "\n",
    "        \"\"\"l'altezza delle fondamenta è fissa = 3\"\"\"\n",
    "        footingZ = [3]\n",
    "        \n",
    "        \"a partire dalla distanza fra le travi costruisco la lista di pieni/vuoti per l'asse Z\"\n",
    "        beamZ = [-3-2, beamXZ[1]]\n",
    "        for disB in beamDis:\n",
    "            beamZ.extend([beamXZ[1] - disB, beamXZ[1]])\n",
    "\n",
    "        pillarZ = [-3,2 + SUM(beamDis) + beamXZ[1]]\n",
    "\n",
    "        footings = INSR(PROD)([QUOTE(footingX),QUOTE(footingY),QUOTE(footingZ)])\n",
    "        pillars = INSR(PROD)([QUOTE(pillarX),QUOTE(pillarY),QUOTE(pillarZ)])\n",
    "        beams = INSR(PROD)([QUOTE(beamX),QUOTE(beamY),QUOTE(beamZ)])\n",
    "\n",
    "        return STRUCT([COLOR(RED)(pillars),COLOR(GREEN)(beams),COLOR(YELLOW)(footings)])\n",
    "    \n",
    "    finalTraslationList = []\n",
    "    beamDis = []\n",
    "    pillarDis = []\n",
    "    pillarDisTraslation = []\n",
    "    pillarXY = ()\n",
    "    beamXZ = ()\n",
    "    \n",
    "    \"\"\"costruisco il parametro lista finalTraslationList \n",
    "    che associato a STRUCT effettuerà la traslazione del telaio della parete\n",
    "    \"\"\"\n",
    "    with open(file_name, 'rb') as csvfile:\n",
    "        spamreader = csv.reader(csvfile, delimiter='|')\n",
    "        for row in spamreader:\n",
    "            if(len(row)==1):\n",
    "                traslation = []\n",
    "                traslationList = map(float,row[0].split(','))\n",
    "                pillarDisTraslation += [traslationList[0]]\n",
    "                traslation += [T([1,2,3])(traslationList)]\n",
    "                finalTraslationList += traslation\n",
    "            else:\n",
    "                coordinateFrame = []\n",
    "                for element in row:\n",
    "                    frameList = map(float,element.split(','))\n",
    "                    coordinateFrame += [frameList]\n",
    "                pillarXY = tuple(coordinateFrame[0])\n",
    "                beamXZ = tuple(coordinateFrame[1])\n",
    "                pillarDis = coordinateFrame[2]\n",
    "                beamDis = coordinateFrame[3]\n",
    "                planeFrame = [createFrame(pillarXY,beamXZ,pillarDis,beamDis)]\n",
    "                finalTraslationList += planeFrame\n",
    "                \n",
    "    \"\"\"costruisco le travi di collegamento come fatto in precedenza, \n",
    "    utilizzando questa volta le distanze fra piloni create dalla traslazione\n",
    "    \"\"\"\n",
    "    footingXY = tuple(map(lambda x:x+1, pillarXY))\n",
    "    beamX = [pillarXY[1]/2-footingXY[0]/2]\n",
    "    beamY = [beamXZ[0]/2-footingXY[1]/2, beamXZ[0]]\n",
    "    \n",
    "    for distance in pillarDisTraslation[1:]:\n",
    "        beamX.extend([-pillarXY[1], distance - pillarXY[1]])\n",
    "    \n",
    "    for distance in pillarDis:\n",
    "        beamY.extend([beamXZ[0]-distance,beamXZ[0]])\n",
    "    \n",
    "    beamZ = [-3-2, beamXZ[1]]\n",
    "    for disB in beamDis:\n",
    "        beamZ.extend([beamXZ[1] - disB, beamXZ[1]])\n",
    "    \n",
    "    beams = INSR(PROD)([QUOTE(beamX),QUOTE(beamY),QUOTE(beamZ)])\n",
    "\n",
    "    traslations = STRUCT(finalTraslationList)\n",
    "    return STRUCT([traslations,beams])\n",
    "    \n",
    "VIEW(ggpl_bone_structure(\"./frame_data_406007.csv\"))\n",
    "                "
   ]
  },
  {
   "cell_type": "markdown",
   "metadata": {
    "collapsed": true
   },
   "source": [
    "## Immagine Risultato"
   ]
  },
  {
   "cell_type": "markdown",
   "metadata": {},
   "source": [
    "<img src=\"./coloreIMG.png\">"
   ]
  },
  {
   "cell_type": "markdown",
   "metadata": {},
   "source": [
    "La parte colorata è il risultato della traslazione. In rosso i pilastri, in giallo le fondamenta, in verde le travi. Le travi in bianco sono quelle aggiunte dopo la traslazione."
   ]
  },
  {
   "cell_type": "code",
   "execution_count": null,
   "metadata": {
    "collapsed": true
   },
   "outputs": [],
   "source": []
  }
 ],
 "metadata": {
  "celltoolbar": "Raw Cell Format",
  "kernelspec": {
   "display_name": "Python 2",
   "language": "python",
   "name": "python2"
  },
  "language_info": {
   "codemirror_mode": {
    "name": "ipython",
    "version": 2
   },
   "file_extension": ".py",
   "mimetype": "text/x-python",
   "name": "python",
   "nbconvert_exporter": "python",
   "pygments_lexer": "ipython2",
   "version": "2.7.12"
  }
 },
 "nbformat": 4,
 "nbformat_minor": 1
}
