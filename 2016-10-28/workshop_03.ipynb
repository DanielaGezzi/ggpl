{
 "cells": [
  {
   "cell_type": "markdown",
   "metadata": {},
   "source": [
    "# Stairway To Heaven ♪\n",
    "## Just a simple reproduction of a suspended straight stair :-)\n",
    "\n",
    "\n",
    "\n",
    "Immagine di esempio:"
   ]
  },
  {
   "cell_type": "markdown",
   "metadata": {},
   "source": [
    "<img src = './immagine_esempio.png'>\n",
    "\n",
    "la struttura idealizzata è simile a quelle mostrate nell'esempio con l'aggiunta di un corrimano posto a sinistra rispetto alla salita."
   ]
  },
  {
   "cell_type": "markdown",
   "metadata": {},
   "source": [
    "## Codice:"
   ]
  },
  {
   "cell_type": "markdown",
   "metadata": {},
   "source": [
    "Il codice è composto da due funzioni:\n",
    "* una funzione ausiliaria che costruisce una scala a partire dalle misure x,y,z di un gradino e dal numero di gradini.\n",
    "* una funzione principale che parametrizza la costruzione della scala in base alle dimensioni di una \"box\" ed eventualmente la ridimensiona all'interno della stessa"
   ]
  },
  {
   "cell_type": "code",
   "execution_count": null,
   "metadata": {
    "collapsed": true
   },
   "outputs": [],
   "source": [
    "from larlib import *\n",
    "\"\"\"\n",
    "ggpl_suspended_straight_stairs è una funzione che date le coordinate x,y,z di una box di riferimento,\n",
    "utilizza tali paramentri per costruire una scala con gradini sospesi compresa di corrimano e supporto centrale\n",
    "e la ridimensiona insieme a tutti i suoi elementi all'interno della box di partenza.\n",
    "\n",
    "@dx = lunghezza box\n",
    "@dy = larghezza box\n",
    "@dz = altezza box\n",
    "\"\"\"\n",
    "def ggpl_suspended_straight_stairs(dx,dy,dz):\n",
    "    \n",
    "#funzione ausiliaria----------------------------------------------------------------------------------------------    \n",
    "    def suspended_straight_stair(sx,sy,sz,nsteps):\n",
    "        \n",
    "        \"\"\"\n",
    "        suspended_straight_stair è una funzione che crea una scala compresa di corrimano con dei gradini \"sospesi\" \n",
    "        appoggiati una struttura centrale di sostegno in base ai seguenti parametri:\n",
    "\n",
    "        @sx = lunghezza gradino \n",
    "        @sy = ampiezza gradino \n",
    "        @sz = altezza gradino \n",
    "        \"\"\"\n",
    "\n",
    "        step = DIFFERENCE([CUBOID([sx,sy,sz]),CUBOID([sx,sy,sz/2])]) #figura geometrica che identifica il singolo gradino\n",
    "\n",
    "        support = PROD([QUOTE([sx/3]), MKPOL([[[0,0],[sy,sz],[sy/2,sz],[0,sz/2]],[[1,2,3,4]],1])]) \n",
    "        support = STRUCT([T([1,3])([sx/2-sx/6,-sz/2]), support]) #lo traslo al centro e leggermente più in basso\n",
    "        \n",
    "        handrail = PROD([QUOTE([.08]), MKPOL([[[0,0],[sy,sz],[sy,3*sz/2],[0,sz/2]],[[1,2,3,4]],1])]) #corrimano\n",
    "\n",
    "\n",
    "        stepTranslationList = [step]\n",
    "        supportTranslationList = [DIFFERENCE([support,CUBOID([sx,sx,-sx])])]\n",
    "        \n",
    "        #per il primo supporto elemento taglio la parte che sporge su -z\n",
    "        handrailTraslationList = [T([3])(5*sz), handrail]\n",
    "\n",
    "        for i in range(nsteps-1): #tot traslazioni per ogni gradino da aggiungere per tutti gli elementi\n",
    "            translation = [T([2,3])([sy, sz])]\n",
    "            stepTranslationList = stepTranslationList + translation + [step]\n",
    "            supportTranslationList = supportTranslationList + translation + [support]\n",
    "            handrailTraslationList = handrailTraslationList + translation + [handrail]\n",
    "        \n",
    "        \n",
    "        return STRUCT([STRUCT(stepTranslationList),\n",
    "                       COLOR(RED)(STRUCT(supportTranslationList)),\n",
    "                       COLOR(RED)(STRUCT(handrailTraslationList))])\n",
    "\n",
    "#fine funzione ausiliaria------------------------------------------------------------------------------------------   \n",
    "    \n",
    "    box = [dx,dy,dz] #coordinate box \n",
    "    \n",
    "    sx = dx #lunghezza dei gradini\n",
    "    sy = .3 #profondità dei gradini\n",
    "    nsteps = int(dy/sy)\n",
    "    sz = float(dz)/float(nsteps)\n",
    "    \n",
    "    stairs = suspended_straight_stair(sx,sy,sz,nsteps)\n",
    "    containtmentBox = SIZE([1,2,3])(stairs) #calcolo la box della scala ottenuta\n",
    "    \n",
    "    for i in range(len(containtmentBox)):\n",
    "        box[i] = box[i]/containtmentBox[i] #calcolo i vettori di scaling\n",
    "   \n",
    "    #VIEW con SKEL\n",
    "    VIEW(STRUCT([SKEL_1(stairs),\n",
    "                   SKEL_1(CUBOID([dx,dy,dz])),\n",
    "                   SKEL_1(CUBOID(containtmentBox)),\n",
    "                   S([1,2,3])(box),\n",
    "                   stairs])\n",
    "         )\n",
    "    \n",
    "    #effettuo lo scaling della scala all'interno della box\n",
    "    return STRUCT([S([1,2,3])(box),stairs])"
   ]
  },
  {
   "cell_type": "code",
   "execution_count": null,
   "metadata": {
    "collapsed": true
   },
   "outputs": [],
   "source": [
    "da completare con immagini risultati"
   ]
  }
 ],
 "metadata": {
  "kernelspec": {
   "display_name": "Python 2",
   "language": "python",
   "name": "python2"
  },
  "language_info": {
   "codemirror_mode": {
    "name": "ipython",
    "version": 2
   },
   "file_extension": ".py",
   "mimetype": "text/x-python",
   "name": "python",
   "nbconvert_exporter": "python",
   "pygments_lexer": "ipython2",
   "version": "2.7.12"
  }
 },
 "nbformat": 4,
 "nbformat_minor": 1
}
