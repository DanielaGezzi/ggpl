{
 "cells": [
  {
   "cell_type": "code",
   "execution_count": 28,
   "metadata": {
    "collapsed": false
   },
   "outputs": [
    {
     "data": {
      "text/plain": [
       "<pyplasm.xgepy.Hpc; proxy of <Swig Object of type 'std::shared_ptr< Hpc > *' at 0x000000001BBFAA50> >"
      ]
     },
     "execution_count": 28,
     "metadata": {},
     "output_type": "execute_result"
    }
   ],
   "source": [
    "from larlib import *\n",
    "\n",
    "\"\"\"pillarsAndBeams è una funzione che dati:\n",
    "\n",
    "pillarXY = (px,py) -> sezione di un pilastro sul piano XY \n",
    "beamXZ = (bx,bz) -> sezione di una trave sul piano XZ\n",
    "pillarDis = [dx1,dx2 ...] = lista delle distanze tra assi dei pilastri per ogni coppia di pilastri\n",
    "beamDis = [hz1, hz2 ...] = lista delle distanze fra le parti superiori delle travi per ogni coppiadi travi\n",
    "\n",
    "restituisce la VIEW della struttura\"\"\"\n",
    "\n",
    "def pillarsAndBeams(pillarXY = (1.,2.),\n",
    "                    beamXZ = (1.,1.),\n",
    "                    pillarDis = [3.,5.,3.,5.,3.,5.,3.,5.,3.],\n",
    "                    beamDis = [6.,3.,6.,3.,6.,3.,6.,3.]):\n",
    "    \n",
    "    \"\"\"definisco delle liste che costituiscono\n",
    "    la base 2D dei pilastri e delle travi e delle fondamenta.\n",
    "    Le misure X,Y delle fondamenta, centrate sull'asse del pilastro, corrispondono a:\n",
    "    footing(fx,fy) -> (px+1,py+1)\"\"\"\n",
    "    footingXY = tuple(map(lambda x:x+1, pillarXY))\n",
    "    \n",
    "    footingX = [footingXY[0]/2-pillarDis[0],footingXY[0]]\n",
    "    footingY = [footingXY[1]/2-pillarDis[0],footingXY[1]]\n",
    "    pillarX = [pillarXY[0]/2-pillarDis[0], pillarXY[0]]\n",
    "    pillarY = [pillarXY[1]/2-pillarDis[0], pillarXY[1]]\n",
    "    beam1X = [beamXZ[0]/2-pillarDis[0], beamXZ[0]]\n",
    "    beam1Y = [pillarXY[1]/2-pillarDis[0]]\n",
    "    beam2X = [pillarXY[0]/2-pillarDis[0]]\n",
    "    beam2Y = [beamXZ[0]/2-pillarDis[0], beamXZ[0]]\n",
    "\n",
    "    \"\"\"tramite list.extend, per ogni distanza fra i pilastri,\n",
    "    costruisco ciclicamente le liste. In particolare:\n",
    "\n",
    "    pienoX|Y Pilastro = px|py\n",
    "    vuotoX|Y Pilastro = distanza fra assi - px|py\n",
    "    i pilastri sono il primo elemento che viene costruito ed è pieno per tutto l'asse Z.\n",
    "\n",
    "    le travi si estendono in lunghezza sia lungo l'asse x che lungo l'asse y.\n",
    "    Nel caso contrassegnato con 1 abbiamo le travi che si estendono in lunghezza lungo l'asse Y, \n",
    "    nel caso contrassegnato con 2 le travi che si estendono in lunghezza lungo l'asse X.\n",
    "    Nella loro lunghezza sono inframezzate da spazi vuoti per far posto ai pilastri precedentemente costruiti.\n",
    "\n",
    "    \"\"\" \n",
    "    for disP in pillarDis:\n",
    "        footingX.extend([footingXY[0]-disP,footingXY[0]])\n",
    "        footingY.extend([footingXY[1]-disP,footingXY[1]])\n",
    "        pillarX.extend([pillarXY[0]-disP,pillarXY[0]])\n",
    "        pillarY.extend([pillarXY[1]-disP,pillarXY[1]])\n",
    "        beam1X.extend([beamXZ[0]-disP,beamXZ[0]])\n",
    "        beam1Y.extend([-pillarXY[1], disP - pillarXY[1]])\n",
    "        beam2Y.extend([beamXZ[0]-disP,beamXZ[0]])\n",
    "        beam2X.extend([-pillarXY[0], disP - pillarXY[0]])\n",
    "\n",
    "\n",
    "    \"\"\"come per gli assi X e Y, in questo caso solo per le travi costruisco ciclicamente\n",
    "    una lista di pieni,vuoti per l'asse Z concorde alle specifiche date in termini di \n",
    "    distanza tra travi.In particolare:\n",
    "    \n",
    "    pienoZTrave = bz\n",
    "    vuotoZTrave = distanzatravi - bz\n",
    "    \"\"\"\n",
    "    beamZ = [-2, beamXZ[1]]\n",
    "    for disB in beamDis:\n",
    "        beamZ.extend([beamXZ[1] - disB, beamXZ[1]])\n",
    "\n",
    "    \"\"\"i pilastri sono pieni per tutta la loro altezza sull'asse Z data da \n",
    "    somma delle distanze fra travi + l'altezza di una trave\n",
    "    \"\"\"\n",
    "    pillarZ = [-2,SUM(beamDis) + beamXZ[1]]\n",
    "    \n",
    "    \"\"\"l'altezza delle fondamenta è fissa = 2\"\"\"\n",
    "    footingZ = [2]\n",
    "\n",
    "    footings = INSR(PROD)([QUOTE(footingX),QUOTE(footingY),QUOTE(footingZ)])\n",
    "    pillars = INSR(PROD)([QUOTE(pillarX),QUOTE(pillarY),QUOTE(pillarZ)])\n",
    "    beams1 = INSR(PROD)([QUOTE(beam1X),QUOTE(beam1Y),QUOTE(beamZ)])\n",
    "    beams2 = INSR(PROD)([QUOTE(beam2X),QUOTE(beam2Y),QUOTE(beamZ)])\n",
    "\n",
    "    return VIEW(STRUCT([pillars,beams1,beams2,footings]))\n",
    "\n",
    "pillarsAndBeams()"
   ]
  },
  {
   "cell_type": "code",
   "execution_count": null,
   "metadata": {
    "collapsed": true
   },
   "outputs": [],
   "source": []
  }
 ],
 "metadata": {
  "kernelspec": {
   "display_name": "Python 2",
   "language": "python",
   "name": "python2"
  },
  "language_info": {
   "codemirror_mode": {
    "name": "ipython",
    "version": 2
   },
   "file_extension": ".py",
   "mimetype": "text/x-python",
   "name": "python",
   "nbconvert_exporter": "python",
   "pygments_lexer": "ipython2",
   "version": "2.7.12"
  }
 },
 "nbformat": 4,
 "nbformat_minor": 1
}
