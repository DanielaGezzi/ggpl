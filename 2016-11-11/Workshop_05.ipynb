{
 "cells": [
  {
   "cell_type": "markdown",
   "metadata": {},
   "source": [
    "# Workshop_05"
   ]
  },
  {
   "cell_type": "markdown",
   "metadata": {},
   "source": [
    "## Immagini di esempio:"
   ]
  },
  {
   "cell_type": "markdown",
   "metadata": {},
   "source": [
    "Per l'arredamento di un'aula sono stati utilizzati i seguenti elementi:\n",
    "* Cattedra\n",
    "* Sedia\n",
    "* Banco\n",
    "* Appendi Abiti\n",
    "* Lavagna a muro"
   ]
  },
  {
   "cell_type": "markdown",
   "metadata": {},
   "source": [
    "<img src = './esempio1.PNG'>"
   ]
  },
  {
   "cell_type": "markdown",
   "metadata": {},
   "source": [
    "## Codice:"
   ]
  },
  {
   "cell_type": "markdown",
   "metadata": {},
   "source": [
    "Sono stati creati in primo luogo tutti gli elementi di arredo dell'aula (la creazione di ogni elemento è parametrica rispetto ad una box di contenimento x,y,z).\n",
    "Solo in seguito gli elementi sono stati disposti all'interno della box di contenimento dell'aula tramite opportune traslazioni e rotazioni."
   ]
  },
  {
   "cell_type": "code",
   "execution_count": 4,
   "metadata": {
    "collapsed": false
   },
   "outputs": [],
   "source": [
    "from larlib import * \n",
    "\n",
    "\n",
    "\"\"\"ggpl_my_class_furniture(x,y,z) è una funzione che date le dimensioni di una box x, y, z\n",
    "costruisce al suo interno una classe completa di banchi, sedie, cattedra, lavagna e appendiabiti\n",
    "\n",
    "@x = x box\n",
    "@y = y box\n",
    "@z = z box\n",
    "\n",
    "\"\"\"\n",
    "def ggpl_my_class_furniture(x,y,z):\n",
    "    \n",
    "    \n",
    "    #FUNZIONI AUSILIARIE ------------------------------------------------------\n",
    "    \"\"\"get_chair(x,y,z) è una funzione che date le dimensioni di una box x, y, z\n",
    "    costruisce al suo interno una sedia\n",
    "    \n",
    "    @x = x box\n",
    "    @y = y box\n",
    "    @z = z box\n",
    "    \n",
    "    \"\"\"\n",
    "    def get_chair(x,y,z):\n",
    "\n",
    "        tLeg = .04 #thickness leg\n",
    "        #shearing tensor\n",
    "        HL1 = MAT([[1,0,0,0],[0,1,0.1,0],[0,0,1,0],[0,0,0,1]])\n",
    "        HL2 = MAT([[1,0,0,0],[0,1,-0.1,0],[0,0,1,0],[0,0,0,1]])\n",
    "\n",
    "        leg = STRUCT([(CUBOID([tLeg,tLeg,z/2])),\n",
    "                         T([3])([z/2]),(CUBOID([tLeg,y-tLeg,tLeg])),\n",
    "                         T([2,3])([y-tLeg,-z/2]),(CUBOID([tLeg,tLeg,z]))])\n",
    "        legs = STRUCT([HL1(leg),T([1])(x-tLeg),HL2(leg)])\n",
    "\n",
    "        tSeat = .05 #thickness seat\n",
    "\n",
    "        fullSeat = MKPOL([[[0,0,0],[x,0,0],[x-.1+tLeg,y,0],[.1-tLeg,y,0]],[[1,2,3,4]],[1]])\n",
    "        diffSeat = MKPOL([[[0,y,0],[0,y-tLeg,0],[x,y-tLeg,0],[x,y,0]],[[1,2,3,4]],[1]])\n",
    "        fullSeat = STRUCT([OFFSET([0,0,tSeat]),fullSeat])\n",
    "        diffSeat = STRUCT([OFFSET([0,0,tSeat]),diffSeat])\n",
    "        seat = DIFF([fullSeat,diffSeat])\n",
    "\n",
    "        hseatBack = .2 #height seatback\n",
    "        seatBack = CUBOID([x-.1,tSeat,hseatBack])\n",
    "\n",
    "        chair = STRUCT([COLOR(BLACK)(legs),\n",
    "                        T(3)(z/2+tLeg),COLOR(GREEN)(seat),\n",
    "                        T([1,2,3])([-(x-.1)/2+x/2,y-tLeg-tSeat,.2]),COLOR(GREEN)(seatBack)])\n",
    "        return chair\n",
    "\n",
    "    \"\"\"get_blackboard(x,y,z) è una funzione che date le dimensioni di una box x, y, z\n",
    "    costruisce al suo interno una lavagna\n",
    "    \n",
    "    @x = x box\n",
    "    @y = y box\n",
    "    @z = z box\n",
    "    \n",
    "    \"\"\"\n",
    "    def get_blackboard(x,y,z):\n",
    "        tOutline = y #thickness of the outline of the board\n",
    "        tSlate = .01 #thickness of the slate\n",
    "\n",
    "        slate = CUBOID([x,tSlate,z])\n",
    "        outline = OFFSET([tOutline,tOutline,tOutline])(SKEL_1(CUBOID([x-tOutline,tSlate,z-tOutline])))\n",
    "\n",
    "        blackboard = STRUCT([outline,T([2])([tOutline+tSlate]),COLOR(BLACK)(slate)])\n",
    "        return blackboard\n",
    "\n",
    "    \"\"\"get_desk(x,y,z) è una funzione che date le dimensioni di una box x, y, z\n",
    "    costruisce al suo interno un banco per alunni\n",
    "    \n",
    "    @x = x box\n",
    "    @y = y box\n",
    "    @z = z box\n",
    "    \n",
    "    \"\"\"\n",
    "    def get_desk(x,y,z):\n",
    "    \n",
    "        #dimensione fissa per spessore del piano di appoggio di 3 cm\n",
    "        hPlane = .03 \n",
    "\n",
    "        #piano d'appoggio con spazio per penne\n",
    "        plane = STRUCT([COLOR(GREEN)(CUBOID([x,y-.1,hPlane])),\n",
    "                        T(2)(y-.1),COLOR(BLACK)(CUBOID([x,.09,hPlane-.01])),\n",
    "                        T(2)(.09),COLOR(GREEN)(CUBOID([x,.01,hPlane]))])\n",
    "\n",
    "        #gambe tavolo con dim. fissa per raggio gambe tavolo = .02\n",
    "        rLegs = .02\n",
    "\n",
    "        leg = CYLINDER([rLegs,z-hPlane])(36)\n",
    "        legs = STRUCT([T([1,2])([.1,.1]),leg,T([1])([x-.2]),leg,T(2)(y-.2),leg,T(1)(-x+.2),leg]) #posiziono legs\n",
    "\n",
    "        #dim. fiss per sottobanco con spessori = 2cm , e altezza bordi = 10 cm\n",
    "        tUndertable = .02\n",
    "        hUndertable = .1\n",
    "        undertable = STRUCT([T([1,2])([.1-.02,.1]),CUBOID([tUndertable,y-.2-tUndertable,hUndertable]),\n",
    "                             T(1)(tUndertable),CUBOID([x-.2,y-.2,tUndertable]),\n",
    "                             T(1)(x-.2),CUBOID([tUndertable,y-.2-tUndertable,hUndertable]),\n",
    "                             T([1,2])([.2-x-tUndertable,y-.2-tUndertable]),CUBOID([x-.2+2*tUndertable,tUndertable,hUndertable])])\n",
    "        undertable = STRUCT([DIFF([undertable,legs])])\n",
    "\n",
    "        desk = STRUCT([COLOR(BLACK)(legs),T(3)(3*z/4),COLOR(RED)(undertable),T(3)((z/4)-hPlane),plane])\n",
    "\n",
    "        return desk\n",
    "\n",
    "    \"\"\"get_teacher_desk(x,y,z) è una funzione che date le dimensioni di una box x, y, z\n",
    "    costruisce al suo interno una cattedra\n",
    "    \n",
    "    @x = x box\n",
    "    @y = y box\n",
    "    @z = z box\n",
    "    \n",
    "    \"\"\"\n",
    "    def get_teacher_desk(x,y,z):\n",
    "        #dimensione fissa per spessore del piano di appoggio di 3 cm\n",
    "        hPlane = .03 \n",
    "\n",
    "        #piano d'appoggio\n",
    "        plane = STRUCT([COLOR(BLUE)(CUBOID([x,y,hPlane]))])\n",
    "\n",
    "        #gambe tavolo con dim. fissa per raggio gambe tavolodi 4 cm\n",
    "        rLegs = .04\n",
    "\n",
    "        leg = CYLINDER([rLegs,z-hPlane])(36)\n",
    "        legs = STRUCT([T([1,2])([.1,.1]),leg,T([1])([x-.2]),leg,T(2)(y-.2),leg,T(1)(-x+.2),leg]) #posiziono legs\n",
    "        ###### legs = STRUCT([DIFF([legs,plane])])\n",
    "\n",
    "        #dim. fiss per sottobanco con spessori = 4cm , e altezza bordi = 30 cm\n",
    "        tCovertable = .04\n",
    "        hCovertable = y-.3\n",
    "        covertable = STRUCT([T([1,2])([.1-rLegs/2,.1]),CUBOID([tCovertable,y-.2-tCovertable,hCovertable]),\n",
    "                             T([1])([x-.2]),CUBOID([tCovertable,y-.2-tCovertable,hCovertable]),\n",
    "                             T([1,2])([.2-x,y-.2-tCovertable]),CUBOID([x-.2+tCovertable,tCovertable,hCovertable])])\n",
    "        covertable = STRUCT([DIFF([covertable,legs])])\n",
    "\n",
    "        desk = STRUCT([COLOR(BLACK)(legs),T(3)((z)-hPlane),plane,T(3)(-hCovertable-.1),COLOR(YELLOW)(covertable)])\n",
    "\n",
    "        return desk\n",
    "\n",
    "    \"\"\"get_wardrobe(x,y,z) è una funzione che date le dimensioni di una box x, y, z\n",
    "    costruisce al suo interno un appendiabiti da muro\n",
    "    \n",
    "    @x = x box\n",
    "    @y = y box\n",
    "    @z = z box\n",
    "    \n",
    "    \"\"\"\n",
    "    def get_wardrobe4(x,y,z):\n",
    "        structure = CUBOID([x,y/4,z])\n",
    "        hanger = R([2,3])(PI/2)(CYLINDER([.02,y])(36))\n",
    "        hanger = T([1,2,3])([x/8,y,z/2])(hanger)\n",
    "        hangers = STRUCT(NN(4)([hanger,T([1])([x/4])]))\n",
    "        structure = STRUCT([DIFF([structure,hangers])])\n",
    "        wardrobe = STRUCT([hangers,COLOR(RED)(structure)])\n",
    "    \n",
    "        return wardrobe\n",
    "    \n",
    "    #FINE FUNZIONI AUSILIARIE -------------------------------------------------\n",
    "    \n",
    "    #alcune variabili predefinite -----------\n",
    "    doDesk = .5 #distanza orizzontale fra colonne banchi\n",
    "    dvDesk = 1.5 #distanza verticale fra righe di banchi\n",
    "    dTeacher = 1.5 #distanza fra banchi e cattedra\n",
    "    dWardrobe = .05 #distanza fra guardaroba\n",
    "    dBlackBoard = .8 #distanza fra lavagna e cattedra\n",
    "    \n",
    "    #grandezze minime dell'aula per ottenere una matrice 3x4 di banchi\n",
    "    xMin = 10.\n",
    "    yMin = 10.\n",
    "    zMin = 3.\n",
    "    \n",
    "    if(x<xMin or y<yMin or z<zMin):\n",
    "        return None\n",
    "    \n",
    "    desk = get_desk(1.5,.6,.8)\n",
    "    chair = get_chair(.6,.6,.9)\n",
    "    blackboard = get_blackboard(4.,.05,1.)\n",
    "    teacherDesk = get_teacher_desk(1.8,.8,.8)\n",
    "    wardrobe = get_wardrobe4(.6,.05,.2)\n",
    "    \n",
    "    #ruoto e sposto lavagna al centro\n",
    "    blackboard = STRUCT([T([2,3])([y/2-4./2,.8]),R([1,2])(PI/2),blackboard])\n",
    "    \n",
    "    teacherDesk = STRUCT([T([1,2])([1.8,.8]),R([1,2])(PI),teacherDesk]) #ruoto cattedra\n",
    "    teacherDeskWithChair = STRUCT([teacherDesk, T([1,2])([1.8/2-.6/2,.8/2]), chair]) #metto sedia sotto cattedra\n",
    "    #ruoto e sposto cattedra con sedia al centro\n",
    "    teacherDeskWithChair = STRUCT([T([1,2])([1.+dBlackBoard,y/2-1.8/2]),R([1,2])(PI/2),teacherDeskWithChair])\n",
    "    \n",
    "    desk = STRUCT([T([1,2])([1.5,.6]),R([1,2])(PI),desk])\n",
    "    deskWithChair = STRUCT([desk, T([1,2])([1.5/2-.6,.6/2]), chair, T([1])([.6]), chair]) #metto sedie\n",
    "    deskWithChair = STRUCT([T(2)(1.5),R([1,2])(PI+PI/2),(deskWithChair)])\n",
    "    rowDeskWithChair = STRUCT(NN(3)([deskWithChair,T(2)(1.5+doDesk)])) #costruisco una fila di banchi\n",
    "    matrixAlumnDesks = STRUCT(NN(4)([rowDeskWithChair,T(1)(dvDesk)])) #costruisco una matrice di banchi 3*4\n",
    "    matrixAlumnDesks = T([1,2])([dBlackBoard + dTeacher + 1., -5.5/2+y/2])(matrixAlumnDesks) #posizionamento\n",
    "\n",
    "    wardrobe = R([1,2])(PI/2)(wardrobe)\n",
    "    wardrobe = STRUCT(NN(5)([wardrobe, T(2)(dWardrobe + .6)]))\n",
    "    wardrobe = T([1,2,3])([x,-3.2/2+y/2,1.8])(wardrobe)\n",
    "\n",
    "    aula = STRUCT([blackboard,teacherDeskWithChair,matrixAlumnDesks,wardrobe])\n",
    "    return aula\n"
   ]
  },
  {
   "cell_type": "markdown",
   "metadata": {},
   "source": [
    "### Esempio:"
   ]
  },
  {
   "cell_type": "code",
   "execution_count": null,
   "metadata": {
    "collapsed": true
   },
   "outputs": [],
   "source": [
    "VIEW(ggpl_my_class_furniture(10.,10.,4.))"
   ]
  },
  {
   "cell_type": "markdown",
   "metadata": {},
   "source": [
    "#### Singoli elementi\n",
    "* Sedia"
   ]
  },
  {
   "cell_type": "markdown",
   "metadata": {},
   "source": [
    "<img src = './chair1.PNG'>"
   ]
  },
  {
   "cell_type": "markdown",
   "metadata": {},
   "source": [
    "* Banco Alunno (per due alunni)"
   ]
  },
  {
   "cell_type": "markdown",
   "metadata": {},
   "source": [
    "<img src = './desk1.PNG'>"
   ]
  },
  {
   "cell_type": "markdown",
   "metadata": {},
   "source": [
    "* Cattedra Insegnante"
   ]
  },
  {
   "cell_type": "markdown",
   "metadata": {},
   "source": [
    "<img src = './tdesk1.PNG'>"
   ]
  },
  {
   "cell_type": "markdown",
   "metadata": {},
   "source": [
    "* Guardaroba"
   ]
  },
  {
   "cell_type": "markdown",
   "metadata": {},
   "source": [
    "<img src = './war1.PNG'>"
   ]
  },
  {
   "cell_type": "markdown",
   "metadata": {},
   "source": [
    "#### Aula:"
   ]
  },
  {
   "cell_type": "markdown",
   "metadata": {},
   "source": [
    "<img src = './aula1.PNG'>"
   ]
  },
  {
   "cell_type": "markdown",
   "metadata": {},
   "source": [
    "<img src = './aula2.PNG'>"
   ]
  }
 ],
 "metadata": {
  "kernelspec": {
   "display_name": "Python 2",
   "language": "python",
   "name": "python2"
  },
  "language_info": {
   "codemirror_mode": {
    "name": "ipython",
    "version": 2
   },
   "file_extension": ".py",
   "mimetype": "text/x-python",
   "name": "python",
   "nbconvert_exporter": "python",
   "pygments_lexer": "ipython2",
   "version": "2.7.12"
  }
 },
 "nbformat": 4,
 "nbformat_minor": 1
}
