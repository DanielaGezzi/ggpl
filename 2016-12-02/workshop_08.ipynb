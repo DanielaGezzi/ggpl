{
 "cells": [
  {
   "cell_type": "markdown",
   "metadata": {},
   "source": [
    "# Workshop_08\n",
    "## Immagine di esempio:\n",
    "\n",
    "Dopo aver scelto un immagine su internet, è stato utilizzato \"inkScape\" per ricalcare la figura di riferimento nelle sue parti, in modo da creare dei file .svg da tradurre in file .lines."
   ]
  },
  {
   "cell_type": "markdown",
   "metadata": {},
   "source": [
    "<img src='./esempio.PNG'>"
   ]
  },
  {
   "cell_type": "markdown",
   "metadata": {},
   "source": [
    "## Codice:\n",
    "Vengono usate due funzioni:\n",
    "* Una funzione primaria *ggpl_create_house()* che costruisce a partire da alcuni \".lines\" files embeddati nel codice la riproduzione in 3d di una casa a partire dalla sua planimetria.\n",
    "\n",
    "* Una funzione ausiliaria *get_lines_from_csv()* che si occupa di restituire la struct 2D delle linee presenti all'interno di ogni file \".lines\"\n",
    "\n",
    "In particolare sono stati utilizzati questi tipi di file .lines:\n",
    "* muri esterni\n",
    "* muri interni\n",
    "* muri terrazzo\n",
    "* porte\n",
    "* finestre\n",
    "* pavimenti bagni, cucina, esterni, moquette, legno (per definire alcune texture in base all'ambiente)"
   ]
  },
  {
   "cell_type": "code",
   "execution_count": 2,
   "metadata": {
    "collapsed": false
   },
   "outputs": [],
   "source": [
    "import csv\n",
    "from pyplasm import *\n",
    "\n",
    "\n",
    "\"\"\"ggpl_create_house() è una funzione che crea la struttura di una casa in 3d a partire\n",
    "dalla planimetria della struttura.\"\"\"\n",
    "def ggpl_create_house():\n",
    "    \n",
    "    #AUX: return struct 2d cell complex from csv --------------------------------------\n",
    "\n",
    "    def get_lines_from_csv(filename):\n",
    "        lines = [] #[[x1,y1,x2,y2],[...]]\n",
    "\n",
    "        file = open(\"./lines/\"+ filename,'rt')\n",
    "        try:\n",
    "            reader = csv.reader(file)\n",
    "            for row in reader:\n",
    "                line = []\n",
    "                for n in row:\n",
    "                    line.append(float(n))\n",
    "                lines.append(line)\n",
    "        finally:\n",
    "            file.close()\n",
    "\n",
    "        polyline = []\n",
    "\n",
    "        for line in lines:\n",
    "            polyline.append(POLYLINE([[line[0],line[1]],[line[2],line[3]]]))\n",
    "\n",
    "        return STRUCT(polyline)\n",
    "    #END AUX ---------------------------------------------------------------------------\n",
    "\n",
    "    #muri esterni -----------------------\n",
    "    extWalls = get_lines_from_csv('muri esterni casa.lines')\n",
    "    extWalls = PROD([OFFSET([4,4])(extWalls), Q(40)])\n",
    "\n",
    "    #muri terrazzo --------------\n",
    "    porWalls = get_lines_from_csv('muri esterni terrazzo.lines')\n",
    "    porWalls = PROD([OFFSET([3,3])(porWalls), Q(10)]) #3d\n",
    "    porWalls = DIFFERENCE([porWalls, extWalls])\n",
    "\n",
    "    #muri interni -----------------------\n",
    "    intWalls = get_lines_from_csv('muri interni casa.lines')\n",
    "    intWalls = PROD([OFFSET([3,3])(intWalls), Q(40)]) #3d\n",
    "    intWalls = DIFFERENCE([intWalls, extWalls])\n",
    "\n",
    "    #buchi porte ------------------------\n",
    "    doors = get_lines_from_csv('porte.lines')\n",
    "    doors = SOLIDIFY(doors)\n",
    "    doors = PROD([doors, Q(30)]) #3d\n",
    "\n",
    "    #buchi finestre ---------------------\n",
    "    windows = get_lines_from_csv('finestre.lines')\n",
    "    windows = SOLIDIFY(windows)\n",
    "    windows = T(3)(10)(PROD([windows, Q(20)])) #3d\n",
    "\n",
    "    #pavimenti legno --------------------\n",
    "    woodFloors = get_lines_from_csv('pavimenti legno.lines')\n",
    "    woodFloors = TEXTURE(\"textures/parquet.jpg\")(SOLIDIFY(woodFloors))\n",
    "\n",
    "    #pavimenti moquette -----------------\n",
    "    moqFloors = get_lines_from_csv('pavimenti moquette.lines')\n",
    "    moqFloors = TEXTURE(\"textures/moquette.jpg\")(SOLIDIFY(moqFloors))\n",
    "\n",
    "    #pavimenti bagno --------------------\n",
    "    wcFloors = get_lines_from_csv('pavimenti bagni.lines')\n",
    "    wcFloors = TEXTURE(\"textures/wc.jpg\")(SOLIDIFY(wcFloors))\n",
    "\n",
    "    #pavimenti cucina -------------------\n",
    "    kitFloors = get_lines_from_csv('pavimenti cucina.lines')\n",
    "    kitFloors = TEXTURE(['textures/kitchen.jpg',True, False, 1, 1, PI/2., 5,5])(SOLIDIFY(kitFloors))\n",
    "\n",
    "    #pavimenti esterni ------------------\n",
    "    extFloors = get_lines_from_csv('pavimenti esterni.lines')\n",
    "    extFloors = TEXTURE(['textures/outside.jpg',True, False, 1, 1, PI/2., 5,10])(SOLIDIFY(extFloors))\n",
    "\n",
    "    #unisco pavimenti\n",
    "    floors = STRUCT([woodFloors, wcFloors, kitFloors, extFloors, moqFloors])\n",
    "\n",
    "    frame = STRUCT([extWalls, intWalls, porWalls])\n",
    "    frame = DIFFERENCE([frame, windows, doors, floors]) #creo buchi per porte e finestre\n",
    "    home = (STRUCT([frame, floors]))\n",
    "\n",
    "    #scale\n",
    "    x = 20/SIZE([1])(home)[0]\n",
    "    y = 16/SIZE([2])(home)[0]\n",
    "    z = 4/SIZE([3])(home)[0]\n",
    "    \n",
    "    home = S([1,2,3])([x,y,z])(STRUCT([frame, floors]))\n",
    "    \n",
    "    return home\n"
   ]
  },
  {
   "cell_type": "code",
   "execution_count": null,
   "metadata": {
    "collapsed": true
   },
   "outputs": [],
   "source": [
    "VIEW(ggpl_create_house())"
   ]
  },
  {
   "cell_type": "markdown",
   "metadata": {
    "collapsed": true
   },
   "source": [
    "<img src='img1.PNG'>\n",
    "<img src='img2.PNG'>\n",
    "<img src='img3.PNG'>"
   ]
  },
  {
   "cell_type": "code",
   "execution_count": null,
   "metadata": {
    "collapsed": true
   },
   "outputs": [],
   "source": []
  }
 ],
 "metadata": {
  "kernelspec": {
   "display_name": "Python 2",
   "language": "python",
   "name": "python2"
  },
  "language_info": {
   "codemirror_mode": {
    "name": "ipython",
    "version": 2
   },
   "file_extension": ".py",
   "mimetype": "text/x-python",
   "name": "python",
   "nbconvert_exporter": "python",
   "pygments_lexer": "ipython2",
   "version": "2.7.12"
  }
 },
 "nbformat": 4,
 "nbformat_minor": 1
}
