{
 "cells": [
  {
   "cell_type": "code",
   "execution_count": 12,
   "metadata": {
    "collapsed": false
   },
   "outputs": [],
   "source": [
    "from larlib import *\n",
    "from ws10 import *"
   ]
  },
  {
   "cell_type": "code",
   "execution_count": 6,
   "metadata": {
    "collapsed": true
   },
   "outputs": [],
   "source": [
    "def get_positionXYZ(hpcObj):\n",
    "    \n",
    "    bx,by,bz = SIZE([1,2,3])(hpcObj)\n",
    "    c = CUBOID([.1,.1,.1])\n",
    "    box = STRUCT([c,hpcObj])\n",
    "    box = BOX([1,2,3])(box)\n",
    "    distance = SIZE([1,2,3])(box)\n",
    "    position = [distance[0]-bx,distance[1]-by,distance[2]-bz]\n",
    "    \n",
    "    return position"
   ]
  },
  {
   "cell_type": "code",
   "execution_count": 7,
   "metadata": {
    "collapsed": false
   },
   "outputs": [],
   "source": [
    "#BASE SIMIL LEGNO\n",
    "def create_basement(x,y,z):\n",
    "    basement = CUBOID([x,y,z])\n",
    "    return STRUCT([MATERIAL([.3,.1,0,1,  .3,.3,0,1,  .3,.2,0,0, 0,0,0,1, 100])(basement)])\n",
    "\n",
    "#VIEW(create_basement(250,200,10))"
   ]
  },
  {
   "cell_type": "code",
   "execution_count": 8,
   "metadata": {
    "collapsed": true
   },
   "outputs": [],
   "source": [
    "\"\"\"\n",
    "get_bezier_curve(listOfPoints) è una funzione che data una lista di punti restituisce\n",
    "la curva di bezier corrispondente\n",
    "\n",
    "@listOfPoints lista di punti\n",
    "\n",
    "@output bezier curve\n",
    "\"\"\"\n",
    "def get_bezier_curve(listOfPoints):\n",
    "    bezierCurve = MAP(BEZIER(S1)(listOfPoints))(INTERVALS(1)(32))\n",
    "    return bezierCurve"
   ]
  },
  {
   "cell_type": "code",
   "execution_count": 9,
   "metadata": {
    "collapsed": false
   },
   "outputs": [],
   "source": [
    "def streets_builder():\n",
    "    \n",
    "    points1 = [[0,100],[100,100],[125,105],[175,110],[225,150],[250,200]]\n",
    "    street1 = OFFSET([4,4])(get_bezier_curve(points1))\n",
    "    \n",
    "    points2 = [[125,175],[200,150],[150,100],[225,75]]\n",
    "    street2= OFFSET([4,4])(get_bezier_curve(points2))\n",
    "    \n",
    "    points3 = [[75,0],[75,200]]\n",
    "    street3 = OFFSET([4,4])(get_bezier_curve(points3))\n",
    "    \n",
    "    points4 = [[125,110],[125,185]]\n",
    "    street4 = OFFSET([4,4])(get_bezier_curve(points4))\n",
    "\n",
    "    points5 = [[0,150],[75,150]]\n",
    "    street5 = OFFSET([4,4])(get_bezier_curve(points5))\n",
    "    \n",
    "    points6 = [[0,100],[0,200]]\n",
    "    street6 = OFFSET([4,4])(get_bezier_curve(points6))\n",
    "    \n",
    "    circle = CIRCLE(8)([50,1])\n",
    "    \n",
    "    return STRUCT([street1,street2,street3,street4,street5,street6,\n",
    "                   T([1,2])([77,104])(circle),\n",
    "                   T([1,2])([127,190])(circle),\n",
    "                   T([1,2])([225,77])(circle)])\n",
    "\n",
    "#VIEW(streets_builder())"
   ]
  },
  {
   "cell_type": "code",
   "execution_count": 10,
   "metadata": {
    "collapsed": false
   },
   "outputs": [],
   "source": [
    "#da migliorare\n",
    "def build_tree():\n",
    "    \n",
    "    def trunk():\n",
    "        return TEXTURE('./textures/tronco.jpg')(CYLINDER([.3,4])(50))\n",
    "    \n",
    "    def foliage():\n",
    "        return TEXTURE('./textures/grass.jpg')(SPHERE(2)([50,50]))\n",
    "    \n",
    "    return STRUCT([trunk(),T(3)(5)(foliage())])\n",
    "\n",
    "#VIEW(build_tree())\n",
    "        \n",
    "        "
   ]
  },
  {
   "cell_type": "code",
   "execution_count": 13,
   "metadata": {
    "collapsed": false
   },
   "outputs": [
    {
     "data": {
      "text/plain": [
       "<pyplasm.xgepy.Hpc; proxy of <Swig Object of type 'std::shared_ptr< Hpc > *' at 0x000000001C78BF60> >"
      ]
     },
     "execution_count": 13,
     "metadata": {},
     "output_type": "execute_result"
    }
   ],
   "source": [
    "def suburban_neighborhood():\n",
    "    base = create_basement(300,250,10)\n",
    "    streets = MATERIAL([.3,.3,.4,1,  .2,.3,.3,1,  0,0,1,0, 0,0,0,1, 100])(streets_builder())\n",
    "    \n",
    "    box = TEXTURE(\"textures/grass.jpg\")(BOX([1,2])(streets))\n",
    "    \n",
    "    house1 = ggpl_multistore_house(\"./casa/lines/\")\n",
    "    \n",
    "    \n",
    "    \n",
    "    return STRUCT([box,streets, house1])\n",
    "    \n",
    "VIEW(suburban_neighborhood())"
   ]
  },
  {
   "cell_type": "code",
   "execution_count": null,
   "metadata": {
    "collapsed": true
   },
   "outputs": [],
   "source": []
  }
 ],
 "metadata": {
  "kernelspec": {
   "display_name": "Python 2",
   "language": "python",
   "name": "python2"
  },
  "language_info": {
   "codemirror_mode": {
    "name": "ipython",
    "version": 2
   },
   "file_extension": ".py",
   "mimetype": "text/x-python",
   "name": "python",
   "nbconvert_exporter": "python",
   "pygments_lexer": "ipython2",
   "version": "2.7.12"
  }
 },
 "nbformat": 4,
 "nbformat_minor": 1
}
