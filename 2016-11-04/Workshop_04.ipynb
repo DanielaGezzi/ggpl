{
 "cells": [
  {
   "cell_type": "markdown",
   "metadata": {},
   "source": [
    "# Workshop_04\n",
    "## Immagine di esempio:"
   ]
  },
  {
   "cell_type": "markdown",
   "metadata": {},
   "source": [
    "<img src= './img01.jpg'>"
   ]
  },
  {
   "cell_type": "markdown",
   "metadata": {},
   "source": [
    "Per la costruzione del tetto è stato deciso di utilizzare un'intersezione fra 2 modelli presenti nell'immagine sopra:\n",
    "* Mansard Roof\n",
    "* Intersecting Roof\n",
    "\n",
    "Sono stati definiti due tipi di codice per la funzione principale:\n",
    "* tipo 1 : la funzione principale prende in input un hpc value di un tetto.\n",
    "* tipo 2 : la funzione principale prende in input vertici e celle."
   ]
  },
  {
   "cell_type": "markdown",
   "metadata": {},
   "source": [
    "## Tipo 1 ------------ \n",
    "### Codice:"
   ]
  },
  {
   "cell_type": "markdown",
   "metadata": {},
   "source": [
    "Il Codice è composto da più funzioni:\n",
    "* una funzione ausiliaria planarity_check(verts) che controlla la planarità di n vertici.\n",
    "* una funzione ausiliaria faces_planarity_check(verts,cells) che dati in input vertici e celle verifica la planarità dei vertici per ogni cella.\n",
    "* una funzione ausiliaria remove_2DCells(cells) che banalmente rimuove le celle di due dimensioni utilizzate per creare gli assi di sostegno interni alla struttura.\n",
    "* una funzione principale che dato un hpc value di un tetto restituisce la struttura completa di travi di sostegno e copertura del tetto."
   ]
  },
  {
   "cell_type": "code",
   "execution_count": 9,
   "metadata": {
    "collapsed": false
   },
   "outputs": [],
   "source": [
    "from larlib import *\n",
    "from numpy import *\n",
    "\n",
    "\"\"\"ggpl_mansard_intersecting_roof_builder è una funzione che dato in input un hpc value di un tetto\n",
    "ne verifica la planarità, dopodiche ne estrae vertici e celle per costruirne una struttura in 3D dotata\n",
    "di travi di supporto e copertura\n",
    "\"\"\"\n",
    "def ggpl_mansard_intersecting_roof_builder1(hpc):\n",
    "    \n",
    "#FUNZIONI AUSILIARIE ------------------------------------------------------------------------#\n",
    "\n",
    "    \"\"\"in an n-dimensional space (n>=3) a set of k points are cooplanar if and only if \n",
    "    the matrix of their relative differences is of rank 2 or less\n",
    "    \"\"\"\n",
    "    def planarity_check(verts):\n",
    "        #meno di 4 punti = coplanare\n",
    "        if(len(verts)>3):\n",
    "            lastPoint = verts[-1]\n",
    "            checkMatrix = verts[0:-1]\n",
    "            for i in range(len(checkMatrix)):\n",
    "                #ad ogni punto rimasto sottraggo l'ultimo punto\n",
    "                checkMatrix[i] = np.subtract(checkMatrix[i],lastPoint)\n",
    "            if(linalg.matrix_rank(matrix(checkMatrix))>2): #controllo rank\n",
    "                return False\n",
    "        return True\n",
    "\n",
    "    def faces_planarity_check(verts, cells):\n",
    "        for cell in cells:\n",
    "            vertsToCheck = []\n",
    "            for i in cell:\n",
    "                 vertsToCheck += [verts[i-1]] \n",
    "            if(not planarity_check(vertsToCheck)):\n",
    "                return False\n",
    "        return True\n",
    "    \n",
    "    def remove_2DCell(cells):\n",
    "        newCells = []\n",
    "        for cell in cells:\n",
    "            if len(cell)>2:\n",
    "                newCells += [cell]\n",
    "        return newCells\n",
    "\n",
    "#FINE FUNZIONI AUSILIARIE ----------------------------------------------------------------#\n",
    "    \n",
    "    ukInfo = UKPOL(SKEL_2(hpc))\n",
    "    if(not faces_planarity_check(ukInfo[0],ukInfo[1])): #ckeck planarity tramite f. ausiliaria\n",
    "        return None\n",
    "    \n",
    "    beams = STRUCT([OFFSET([0.2,0.2,0.2])(SKEL_1(hpc))]) #struttura delle travi\n",
    "    \n",
    "    verts = list([round(x,3),round(y,3), round(z,3)] for [x,y,z] in ukInfo[0])\n",
    "    \n",
    "    cells = ukInfo[1]\n",
    "    newCells = remove_2DCell(cells) #rimuovo cell 2D tramite f. ausiliaria\n",
    "    \n",
    "    faces = STRUCT([OFFSET([0.2,0.2,0.2]),(MKPOL([verts, newCells, None]))])\n",
    "    \n",
    "    return STRUCT([T(3)(10),beams,T([3])([0.2]),COLOR(RED)(faces)])\n"
   ]
  },
  {
   "cell_type": "markdown",
   "metadata": {},
   "source": [
    "### Esempi:"
   ]
  },
  {
   "cell_type": "code",
   "execution_count": 10,
   "metadata": {
    "collapsed": false
   },
   "outputs": [
    {
     "data": {
      "text/plain": [
       "<pyplasm.xgepy.Hpc; proxy of <Swig Object of type 'std::shared_ptr< Hpc > *' at 0x0000000004EAF450> >"
      ]
     },
     "execution_count": 10,
     "metadata": {},
     "output_type": "execute_result"
    }
   ],
   "source": [
    "#TETTO DI PARTENZA---------------------------------------------------------------------------#\n",
    "verts = [[7.,5.,5.],[7.,-5.,5.],[-7.,5.,5.],[-7.,-5.,5.], #rect interno\n",
    "          [14.,10.,0],[14.,-10.,0],[-14.,10.,0],[-14.,-10.,0], #rect esterno\n",
    "          [0,0,8.], #punta centrale\n",
    "          [0,5.,5.],[0,10.,5.],[0,16.,5.],#punta prolungamento\n",
    "          [-7.,10.,0],[7.,10.,0],[-7.,16.,0],[7.,16.,0], #base prolungamento\n",
    "          [7.,5.,0],[7.,-5.,0],[-7.,5.,0],[-7.,-5.,0] #punti con z=0 per travi basse\n",
    "        ]  \n",
    "\n",
    "cells = [[1,2,5,6],[1,3,5,7],[3,4,7,8],[2,4,6,8], #connessioni rect interna-esterna\n",
    "          [1,2,9],[1,3,9],[3,4,9],[2,4,9], #connessioni rect interna-puntacentrale\n",
    "          [10,11,13],[10,11,14],[11,12,15,13],[11,12,16,14],[12,15,16], #connessioni prolungamento\n",
    "          [17,18],[17,19],[18,20],[19,20],[1,17],[2,18],[4,20],[3,19],[5,17],[6,18],[8,20],[7,19]\n",
    "        ] \n",
    "\n",
    "startRoof = (MKPOL([verts,cells,None])) #tetto di partenza\n",
    "\n",
    "VIEW(ggpl_mansard_intersecting_roof_builder1(startRoof))"
   ]
  },
  {
   "cell_type": "markdown",
   "metadata": {},
   "source": [
    "<img src = './ris01.png'>"
   ]
  },
  {
   "cell_type": "markdown",
   "metadata": {},
   "source": [
    "<img src = './ris02.png'>"
   ]
  },
  {
   "cell_type": "code",
   "execution_count": 11,
   "metadata": {
    "collapsed": false
   },
   "outputs": [
    {
     "data": {
      "text/plain": [
       "<pyplasm.xgepy.Hpc; proxy of <Swig Object of type 'std::shared_ptr< Hpc > *' at 0x0000000004EAF360> >"
      ]
     },
     "execution_count": 11,
     "metadata": {},
     "output_type": "execute_result"
    }
   ],
   "source": [
    "#TETTO DI PARTENZA---------------------------------------------------------------------------#\n",
    "verts = [[5.,5.,5.],[5.,-5.,5.],[-5.,5.,5.],[-5.,-5.,5.], #rect interno\n",
    "          [7.,10.,0],[7.,-10.,0],[-7.,10.,0],[-7.,-10.,0], #rect esterno\n",
    "          [0,0,15.], #punta centrale\n",
    "          [0,5.,5.],[0,10.,5.],[0,10.,5.],#punta prolungamento\n",
    "          [-5.,10.,0],[5.,10.,0],[-5.,16.,0],[5.,16.,0], #base prolungamento\n",
    "          [5.,5.,0],[5.,-5.,0],[-5.,5.,0],[-5.,-5.,0] #punti con z=0 per travi basse\n",
    "        ]  \n",
    "\n",
    "cells = [[1,2,5,6],[1,3,5,7],[3,4,7,8],[2,4,6,8], #connessioni rect interna-esterna\n",
    "          [1,2,9],[1,3,9],[3,4,9],[2,4,9], #connessioni rect interna-puntacentrale\n",
    "          [10,11,13],[10,11,14],[11,12,15,13],[11,12,16,14],[12,15,16], #connessioni prolungamento\n",
    "          [17,18],[17,19],[18,20],[19,20],[1,17],[2,18],[4,20],[3,19],[5,17],[6,18],[8,20],[7,19]\n",
    "        ] \n",
    "\n",
    "startRoof = (MKPOL([verts,cells,None])) #tetto di partenza\n",
    "\n",
    "VIEW(ggpl_mansard_intersecting_roof_builder1(startRoof))"
   ]
  },
  {
   "cell_type": "markdown",
   "metadata": {},
   "source": [
    "<img src = './res03.png'>"
   ]
  },
  {
   "cell_type": "markdown",
   "metadata": {},
   "source": [
    "<img src = './res04.png'>"
   ]
  },
  {
   "cell_type": "markdown",
   "metadata": {},
   "source": [
    "## Tipo 2 ------------ \n",
    "### Codice:"
   ]
  },
  {
   "cell_type": "markdown",
   "metadata": {},
   "source": [
    "Il Codice è composto da più funzioni:\n",
    "* una funzione ausiliaria planarity_check(verts) che controlla la planarità di n vertici.\n",
    "* una funzione ausiliaria faces_planarity_check(verts,cells) che dati in input vertici e celle verifica la planarità dei vertici per ogni cella.\n",
    "* una funzione ausiliaria remove_2DCells(cells) che banalmente rimuove le celle di due dimensioni utilizzate per creare gli assi di sostegno interni alla struttura.\n",
    "* una funzione principale che dati in input vertici e celle della struttura di un tetto restituisce la struttura completa di travi di sostegno e copertura del tetto."
   ]
  },
  {
   "cell_type": "code",
   "execution_count": 15,
   "metadata": {
    "collapsed": true
   },
   "outputs": [],
   "source": [
    "from larlib import *\n",
    "from numpy import *\n",
    "\n",
    "def ggpl_mansard_intersecting_roof_builder2(verts, cells):\n",
    "    \n",
    "#FUNZIONI AUSILIARIE ------------------------------------------------------------------------#\n",
    "\n",
    "    \"\"\"in an n-dimensional space (n>=3) a set of k points are cooplanar if and only if \n",
    "    the matrix of their relative differences is of rank 2 or less\n",
    "    \"\"\"\n",
    "    def planarity_check(verts):\n",
    "        #meno di 4 punti = coplanare\n",
    "        if(len(verts)>3):\n",
    "            lastPoint = verts[-1]\n",
    "            checkMatrix = verts[0:-1]\n",
    "            for i in range(len(checkMatrix)):\n",
    "                #ad ogni punto rimasto sottraggo l'ultimo punto\n",
    "                checkMatrix[i] = np.subtract(checkMatrix[i],lastPoint)\n",
    "            if(linalg.matrix_rank(matrix(checkMatrix))>2): #controllo rank\n",
    "                return False\n",
    "        return True\n",
    "\n",
    "    def faces_planarity_check(verts, cells):\n",
    "        for cell in cells:\n",
    "            vertsToCheck = []\n",
    "            for i in cell:\n",
    "                 vertsToCheck += [verts[i-1]] \n",
    "            if(not planarity_check(vertsToCheck)):\n",
    "                return False\n",
    "        return True\n",
    "    \n",
    "    def remove_2DCell(cells):\n",
    "        newCells = []\n",
    "        for cell in cells:\n",
    "            if len(cell)>2:\n",
    "                newCells += [cell]\n",
    "        return newCells\n",
    "\n",
    "#FINE FUNZIONI AUSILIARIE ----------------------------------------------------------------#\n",
    "    \n",
    "    startRoof = (MKPOL([verts,cells,None])) #tetto di partenza\n",
    "    \n",
    "    beams = STRUCT([OFFSET([0.2,0.2,0.2])(SKEL_1(startRoof))]) #struttura delle travi\n",
    "\n",
    "    ukInfo = UKPOL(SKEL_2(startRoof))\n",
    "    if(not faces_planarity_check(ukInfo[0],ukInfo[1])): #ckeck planarity tramite f. ausiliaria\n",
    "        return None\n",
    "\n",
    "    newCells = remove_2DCell(cells) #rimuovo cell 2D tramite f. ausiliaria\n",
    "    \n",
    "    faces = STRUCT([OFFSET([0.2,0.2,0.2]),(MKPOL([verts, newCells, None]))])\n",
    "\n",
    "    return STRUCT([T(3)(10),beams,T([3])([0.2]),COLOR(RED)(faces)])"
   ]
  },
  {
   "cell_type": "markdown",
   "metadata": {},
   "source": [
    "### Esempi:"
   ]
  },
  {
   "cell_type": "code",
   "execution_count": 17,
   "metadata": {
    "collapsed": false
   },
   "outputs": [
    {
     "data": {
      "text/plain": [
       "<pyplasm.xgepy.Hpc; proxy of <Swig Object of type 'std::shared_ptr< Hpc > *' at 0x0000000004E2C120> >"
      ]
     },
     "execution_count": 17,
     "metadata": {},
     "output_type": "execute_result"
    }
   ],
   "source": [
    "#TETTO DI PARTENZA---------------------------------------------------------------------------#\n",
    "verts = [[7.,5.,5.],[7.,-5.,5.],[-7.,5.,5.],[-7.,-5.,5.], #rect interno\n",
    "          [14.,10.,0],[14.,-10.,0],[-14.,10.,0],[-14.,-10.,0], #rect esterno\n",
    "          [0,0,8.], #punta centrale\n",
    "          [0,5.,5.],[0,10.,5.],[0,16.,5.],#punta prolungamento\n",
    "          [-7.,10.,0],[7.,10.,0],[-7.,16.,0],[7.,16.,0], #base prolungamento\n",
    "          [7.,5.,0],[7.,-5.,0],[-7.,5.,0],[-7.,-5.,0] #punti con z=0 per travi basse\n",
    "        ]  \n",
    "\n",
    "cells = [[1,2,5,6],[1,3,5,7],[3,4,7,8],[2,4,6,8], #connessioni rect interna-esterna\n",
    "          [1,2,9],[1,3,9],[3,4,9],[2,4,9], #connessioni rect interna-puntacentrale\n",
    "          [10,11,13],[10,11,14],[11,12,15,13],[11,12,16,14],[12,15,16], #connessioni prolungamento\n",
    "          [17,18],[17,19],[18,20],[19,20],[1,17],[2,18],[4,20],[3,19],[5,17],[6,18],[8,20],[7,19]\n",
    "        ] \n",
    "\n",
    "VIEW(ggpl_mansard_intersecting_roof_builder2(verts,cells))"
   ]
  },
  {
   "cell_type": "markdown",
   "metadata": {},
   "source": [
    "<img src = './ris01.png'>"
   ]
  },
  {
   "cell_type": "markdown",
   "metadata": {},
   "source": [
    "<img src = './ris02.png'>"
   ]
  },
  {
   "cell_type": "code",
   "execution_count": 11,
   "metadata": {
    "collapsed": false
   },
   "outputs": [
    {
     "data": {
      "text/plain": [
       "<pyplasm.xgepy.Hpc; proxy of <Swig Object of type 'std::shared_ptr< Hpc > *' at 0x0000000004EAF360> >"
      ]
     },
     "execution_count": 11,
     "metadata": {},
     "output_type": "execute_result"
    }
   ],
   "source": [
    "#TETTO DI PARTENZA---------------------------------------------------------------------------#\n",
    "verts = [[5.,5.,5.],[5.,-5.,5.],[-5.,5.,5.],[-5.,-5.,5.], #rect interno\n",
    "          [7.,10.,0],[7.,-10.,0],[-7.,10.,0],[-7.,-10.,0], #rect esterno\n",
    "          [0,0,15.], #punta centrale\n",
    "          [0,5.,5.],[0,10.,5.],[0,10.,5.],#punta prolungamento\n",
    "          [-5.,10.,0],[5.,10.,0],[-5.,16.,0],[5.,16.,0], #base prolungamento\n",
    "          [5.,5.,0],[5.,-5.,0],[-5.,5.,0],[-5.,-5.,0] #punti con z=0 per travi basse\n",
    "        ]  \n",
    "\n",
    "cells = [[1,2,5,6],[1,3,5,7],[3,4,7,8],[2,4,6,8], #connessioni rect interna-esterna\n",
    "          [1,2,9],[1,3,9],[3,4,9],[2,4,9], #connessioni rect interna-puntacentrale\n",
    "          [10,11,13],[10,11,14],[11,12,15,13],[11,12,16,14],[12,15,16], #connessioni prolungamento\n",
    "          [17,18],[17,19],[18,20],[19,20],[1,17],[2,18],[4,20],[3,19],[5,17],[6,18],[8,20],[7,19]\n",
    "        ] \n",
    "\n",
    "VIEW(ggpl_mansard_intersecting_roof_builder2(verts,cells))"
   ]
  },
  {
   "cell_type": "markdown",
   "metadata": {},
   "source": [
    "<img src = './res03.png'>"
   ]
  },
  {
   "cell_type": "markdown",
   "metadata": {},
   "source": [
    "<img src = './res04.png'>"
   ]
  }
 ],
 "metadata": {
  "kernelspec": {
   "display_name": "Python 2",
   "language": "python",
   "name": "python2"
  },
  "language_info": {
   "codemirror_mode": {
    "name": "ipython",
    "version": 2
   },
   "file_extension": ".py",
   "mimetype": "text/x-python",
   "name": "python",
   "nbconvert_exporter": "python",
   "pygments_lexer": "ipython2",
   "version": "2.7.12"
  }
 },
 "nbformat": 4,
 "nbformat_minor": 1
}
