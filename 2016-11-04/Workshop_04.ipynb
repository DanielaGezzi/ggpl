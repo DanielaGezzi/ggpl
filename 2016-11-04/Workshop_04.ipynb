{
 "cells": [
  {
   "cell_type": "markdown",
   "metadata": {},
   "source": [
    "# Workshop_04\n",
    "## Immagine di esempio:"
   ]
  },
  {
   "cell_type": "markdown",
   "metadata": {},
   "source": [
    "<img src= './img01.jpg'>"
   ]
  },
  {
   "cell_type": "markdown",
   "metadata": {},
   "source": [
    "In base all'immagine precedente sono state considerate **due** tipologie di tetti:\n",
    "* **Prima Tipologia**: Mansard Roof\n",
    "* **Seconda Tipologia** : itersezione fra i 2 modelli Intersecting Roof e Mansard Roof\n",
    "In base a queste due tipologie verranno poi forniti gli esempi grafici dei risultati.\n",
    "\n",
    "A causa di alcuni dubbi sulle specifiche del progetto ho deciso di implementare diverse versioni che differenziano fra loro in base al tipo di input.\n",
    "Il dubbio deriva dal tipo di celle che dovevano essere utilizzate per la creazione del tetto, cioè se era possibile specificare delle celle 1D per creare le travi di sostegno interne e celle 2D per i piani di copertura, o se la struttura del tetto di partenza doveva essere \"piena\" e costruita con celle 3D.\n",
    "\n",
    "Sono stati perciò definiti due tipi di codice:\n",
    "* **caso 1** : la funzione principale prende in input vertici e celle 1D,2D.\n",
    "* **caso 2** : la funzione principale prende in input vertici e celle 3D."
   ]
  },
  {
   "cell_type": "markdown",
   "metadata": {},
   "source": [
    "## CASO 1:\n",
    "### Codice:"
   ]
  },
  {
   "cell_type": "markdown",
   "metadata": {},
   "source": [
    "Il codice è composto da più funzioni:\n",
    "* una funzione ausiliaria *planarity_check(verts)* che controlla la planarità di n vertici.\n",
    "* una funzione ausiliaria *faces_planarity_check(verts,cells)* che dati in input vertici e celle verifica la planarità dei vertici per ogni cella.\n",
    "* una funzione ausiliaria *remove_1DCells(cells)* che banalmente rimuove le celle composte da due punti utilizzate per creare gli assi di sostegno interni alla struttura.\n",
    "* una funzione ausiliaria *create_roof(hpc)* che dato in input un hpc value di un tetto restituisce la struttura completa di travi di sostegno e copertura del tetto.\n",
    "* una funzione principale *ggpl_mansard_intersecting_roof_builder(verts,cells)* che racchiude le precendeti e prende in input una lista di vertici e una lista di celle che identificano la struttura grezza di un tetto."
   ]
  },
  {
   "cell_type": "code",
   "execution_count": 4,
   "metadata": {
    "collapsed": false
   },
   "outputs": [],
   "source": [
    "from larlib import *\n",
    "from numpy import *\n",
    "\n",
    "\"\"\"ggpl_mansard_intersecting_roof_builder(verts,cells) è una funzione che dato in input \n",
    "una lista di verticie una lista di celle che identificano la struttura grezza di un tetto, \n",
    "restituisce la struttura 3D dello stesso tetto più rifinita, dotata di travi di sostegno e copertura.\n",
    "\n",
    "@verts = lista di vertici\n",
    "@cells = lista di celle 1D per le travi di sostegno interne, 2D per le \"facce\" del tetto\n",
    "\"\"\"\n",
    "def ggpl_mansard_intersecting_roof_builder1(verts,cells):\n",
    "    \n",
    "#FUNZIONI AUSILIARIE ------------------------------------------------------------------------#\n",
    "\n",
    "    \"\"\"planarity_check(verts) è una funzione che preso in input una lista di n vertici\n",
    "    controlla la loro complanarità, restituendo False se non sono complanari, True altrimenti.\n",
    "    \n",
    "    @verts = lista di n vertici\n",
    "    \"\"\"\n",
    "    def planarity_check(verts):\n",
    "        \"\"\"in an n-dimensional space (n>=3) a set of k points are cooplanar if and only if \n",
    "        the matrix of their relative differences is of rank 2 or less\n",
    "        \"\"\"\n",
    "        #meno di 4 punti = coplanare\n",
    "        if(len(verts)>3):\n",
    "            lastPoint = verts[-1]\n",
    "            checkMatrix = verts[0:-1]\n",
    "            for i in range(len(checkMatrix)):\n",
    "                #ad ogni punto rimasto sottraggo l'ultimo punto\n",
    "                checkMatrix[i] = np.subtract(checkMatrix[i],lastPoint)\n",
    "            if(linalg.matrix_rank(matrix(checkMatrix))>2): #controllo rank\n",
    "                return False\n",
    "        return True\n",
    "\n",
    "    \"\"\"faces_planarity_check(verts,cells) è una funzione che preso in input una lista di n vertici\n",
    "     e una lista di n celle, controlla la complanarità dei punti per ogni cella, \n",
    "     restituendo False se non sono complanari, True altrimenti.\n",
    "    \n",
    "    @verts = lista di n vertici\n",
    "    @cells lista di celle\n",
    "    \"\"\"\n",
    "    def faces_planarity_check(verts, cells):\n",
    "        for cell in cells:\n",
    "            vertsToCheck = []\n",
    "            for i in cell:\n",
    "                 vertsToCheck += [verts[i-1]] \n",
    "            if(not planarity_check(vertsToCheck)):\n",
    "                return False\n",
    "        return True\n",
    "    \n",
    "    \"\"\"remove_1DCell(cells) è una funzione che preso in input una lista di n celle\n",
    "    rimuove le celle 1D che in principio identificavano le travi interne del tetto\n",
    "    \n",
    "    @cells = lista di n celle\n",
    "    \"\"\"\n",
    "    def remove_1DCell(cells):\n",
    "        newCells = []\n",
    "        for cell in cells:\n",
    "            if len(cell)>2:\n",
    "                newCells += [cell]\n",
    "        return newCells\n",
    "    \n",
    "    \"\"\"create_roof(hpc) è una funzione che preso in input un valore hpc di un tetto grezzo\n",
    "    ne estrae vertici e celle tramite la funzione UKPOL\n",
    "    ne verifica la complanarità tramite la funzione faces_planarity_check\n",
    "    rimuove le celle 1D delle travi di sostegno interne tramite la funzione remove_1DCells\n",
    "    restituisce una struttura composta dallo scheletro delle travi e la copertura del tetto\n",
    "    \n",
    "    @hpc = hpc value della struttura di un tetto grezzo\n",
    "    \"\"\"\n",
    "    def create_roof(hpc):\n",
    "        ukInfo = UKPOL(SKEL_2(hpc))\n",
    "        \n",
    "        if(not faces_planarity_check(ukInfo[0],ukInfo[1])): #ckeck planarity tramite f. ausiliaria\n",
    "            return None\n",
    "\n",
    "        beams = STRUCT([OFFSET([0.2,0.2,0.2])(SKEL_1(hpc))]) #struttura delle travi\n",
    "        verts = list([round(x,3),round(y,3), round(z,3)] for [x,y,z] in ukInfo[0])\n",
    "\n",
    "        cells = ukInfo[1]\n",
    "        newCells = remove_1DCell(cells) #rimuovo cell 1D tramite f. ausiliaria\n",
    "\n",
    "        faces = STRUCT([OFFSET([0.2,0.2,0.2]),(MKPOL([verts, newCells, None]))])\n",
    "\n",
    "        return STRUCT([T(3)(10),beams,T([3])([0.2]),COLOR(RED)(faces)])\n",
    "\n",
    "#FINE FUNZIONI AUSILIARIE ----------------------------------------------------------------#\n",
    "    \n",
    "    startRoof = (MKPOL([verts,cells,None])) #tetto di partenza\n",
    "    return create_roof(startRoof)\n"
   ]
  },
  {
   "cell_type": "markdown",
   "metadata": {},
   "source": [
    "### Esempio prima tipologia: Mansard Roof"
   ]
  },
  {
   "cell_type": "code",
   "execution_count": 5,
   "metadata": {
    "collapsed": false
   },
   "outputs": [
    {
     "data": {
      "text/plain": [
       "<pyplasm.xgepy.Hpc; proxy of <Swig Object of type 'std::shared_ptr< Hpc > *' at 0x0000000004AFED80> >"
      ]
     },
     "execution_count": 5,
     "metadata": {},
     "output_type": "execute_result"
    }
   ],
   "source": [
    "#TETTO DI PARTENZA---------------------------------------------------------------------------#\n",
    "verts = [[7.,5.,5.],[7.,-5.,5.],[-7.,5.,5.],[-7.,-5.,5.], #rect interno\n",
    "          [14.,10.,0],[14.,-10.,0],[-14.,10.,0],[-14.,-10.,0], #rect esterno\n",
    "          [0,0,8.], #punta centrale\n",
    "          [0,5.,5.],[0,10.,5.],[0,16.,5.],#punta prolungamento\n",
    "          [-7.,10.,0],[7.,10.,0],[-7.,16.,0],[7.,16.,0], #base prolungamento\n",
    "          [7.,5.,0],[7.,-5.,0],[-7.,5.,0],[-7.,-5.,0] #punti con z=0 per travi basse\n",
    "        ]  \n",
    "\n",
    "cells = [[1,2,5,6],[1,3,5,7],[3,4,7,8],[2,4,6,8], #connessioni rect interna-esterna\n",
    "          [1,2,9],[1,3,9],[3,4,9],[2,4,9], #connessioni rect interna-puntacentrale\n",
    "          [17,18],[17,19],[18,20],[19,20],[1,17],[2,18],[4,20],[3,19],[5,17],[6,18],[8,20],[7,19]\n",
    "        ] \n",
    "\n",
    "VIEW(ggpl_mansard_intersecting_roof_builder1(verts,cells))"
   ]
  },
  {
   "cell_type": "markdown",
   "metadata": {},
   "source": [
    "<img src = './caso1tipo1.PNG'>"
   ]
  },
  {
   "cell_type": "markdown",
   "metadata": {},
   "source": [
    "### Esempio seconda tipologia: Mansard + Intersect Roof"
   ]
  },
  {
   "cell_type": "code",
   "execution_count": 10,
   "metadata": {
    "collapsed": false
   },
   "outputs": [
    {
     "data": {
      "text/plain": [
       "<pyplasm.xgepy.Hpc; proxy of <Swig Object of type 'std::shared_ptr< Hpc > *' at 0x0000000004EAF450> >"
      ]
     },
     "execution_count": 10,
     "metadata": {},
     "output_type": "execute_result"
    }
   ],
   "source": [
    "#TETTO DI PARTENZA---------------------------------------------------------------------------#\n",
    "verts = [[7.,5.,5.],[7.,-5.,5.],[-7.,5.,5.],[-7.,-5.,5.], #rect interno\n",
    "          [14.,10.,0],[14.,-10.,0],[-14.,10.,0],[-14.,-10.,0], #rect esterno\n",
    "          [0,0,8.], #punta centrale\n",
    "          [0,5.,5.],[0,10.,5.],[0,16.,5.],#punta prolungamento\n",
    "          [-7.,10.,0],[7.,10.,0],[-7.,16.,0],[7.,16.,0], #base prolungamento\n",
    "          [7.,5.,0],[7.,-5.,0],[-7.,5.,0],[-7.,-5.,0] #punti con z=0 per travi basse\n",
    "        ]  \n",
    "\n",
    "cells = [[1,2,5,6],[1,3,5,7],[3,4,7,8],[2,4,6,8], #connessioni rect interna-esterna\n",
    "          [1,2,9],[1,3,9],[3,4,9],[2,4,9], #connessioni rect interna-puntacentrale\n",
    "          [10,11,13],[10,11,14],[11,12,15,13],[11,12,16,14],[12,15,16], #connessioni prolungamento\n",
    "          [17,18],[17,19],[18,20],[19,20],[1,17],[2,18],[4,20],[3,19],[5,17],[6,18],[8,20],[7,19]\n",
    "        ] \n",
    "\n",
    "VIEW(ggpl_mansard_intersecting_roof_builder1(verts,cells))"
   ]
  },
  {
   "cell_type": "markdown",
   "metadata": {},
   "source": [
    "<img src = './caso1tipo2.PNG'>"
   ]
  },
  {
   "cell_type": "code",
   "execution_count": 11,
   "metadata": {
    "collapsed": false
   },
   "outputs": [
    {
     "data": {
      "text/plain": [
       "<pyplasm.xgepy.Hpc; proxy of <Swig Object of type 'std::shared_ptr< Hpc > *' at 0x0000000004EAF360> >"
      ]
     },
     "execution_count": 11,
     "metadata": {},
     "output_type": "execute_result"
    }
   ],
   "source": [
    "#TETTO DI PARTENZA---------------------------------------------------------------------------#\n",
    "verts = [[5.,5.,5.],[5.,-5.,5.],[-5.,5.,5.],[-5.,-5.,5.], #rect interno\n",
    "          [7.,10.,0],[7.,-10.,0],[-7.,10.,0],[-7.,-10.,0], #rect esterno\n",
    "          [0,0,15.], #punta centrale\n",
    "          [0,5.,5.],[0,10.,5.],[0,10.,5.],#punta prolungamento\n",
    "          [-5.,10.,0],[5.,10.,0],[-5.,16.,0],[5.,16.,0], #base prolungamento\n",
    "          [5.,5.,0],[5.,-5.,0],[-5.,5.,0],[-5.,-5.,0] #punti con z=0 per travi basse\n",
    "        ]  \n",
    "\n",
    "cells = [[1,2,5,6],[1,3,5,7],[3,4,7,8],[2,4,6,8], #connessioni rect interna-esterna\n",
    "          [1,2,9],[1,3,9],[3,4,9],[2,4,9], #connessioni rect interna-puntacentrale\n",
    "          [10,11,13],[10,11,14],[11,12,15,13],[11,12,16,14],[12,15,16], #connessioni prolungamento\n",
    "          [17,18],[17,19],[18,20],[19,20],[1,17],[2,18],[4,20],[3,19],[5,17],[6,18],[8,20],[7,19]\n",
    "        ] \n",
    "\n",
    "startRoof = (MKPOL([verts,cells,None])) #tetto di partenza\n",
    "\n",
    "VIEW(ggpl_mansard_intersecting_roof_builder1(startRoof))"
   ]
  },
  {
   "cell_type": "markdown",
   "metadata": {},
   "source": [
    "<img src = './caso1tipoplus.PNG'>"
   ]
  },
  {
   "cell_type": "markdown",
   "metadata": {},
   "source": [
    "## CASO 2 \n",
    "### Codice:"
   ]
  },
  {
   "cell_type": "markdown",
   "metadata": {},
   "source": [
    "Il codice è composto da più funzioni:\n",
    "* una funzione ausiliaria *planarity_check(verts)* che controlla la planarità di n vertici.\n",
    "* una funzione ausiliaria *faces_planarity_check(verts, cells)* che dati in input vertici e celle verifica la planarità dei vertici per ogni cella.\n",
    "* una funzione ausiliaria *get_new_verts(verts)* che rimuove quei vertici che non darebbero alcun contributo utile per la costruzione della copertura del tetto, ossia quei vertici \"interni\" che risultano essere la proiezione su z=0 di altri vertici con z!=0.\n",
    "* una funzione ausiliaria *remove_base_cells(verts, cells)* che rimuove le celle che identificano dei piani orizzontali interni che non fanno parte della copertura del tetto. [NB: necessario in particolare nell'esempio utilizzato per rimuovere il piano interno che si creava con la creazione del tetto mansardato.] \n",
    "* una funzione ausiliaria *create_roof(hpc)* che dato in input un hpc value di un tetto restituisce la struttura completa di travi di sostegno e copertura del tetto.\n",
    "* una funzione principale *ggpl_mansard_intersecting_roof_builder2(verts,cells)* che racchiude le precendeti e prende in input una lista di vertici e una lista di celle che identificano la struttura grezza di un tetto."
   ]
  },
  {
   "cell_type": "code",
   "execution_count": 6,
   "metadata": {
    "collapsed": true
   },
   "outputs": [],
   "source": [
    "#versione con hpc\n",
    "from larlib import *\n",
    "from numpy import *\n",
    "import itertools\n",
    "\n",
    "\"\"\"ggpl_mansard_intersecting_roof_builder2(verts,cells) è una funzione che dato in input \n",
    "una lista di verticie una lista di celle che identificano la struttura grezza di un tetto, \n",
    "restituisce la struttura 3D dello stesso tetto più rifinita, dotata di travi di sostegno e copertura.\n",
    "\n",
    "@verts = lista di vertici\n",
    "@cells = lista di celle 3D\n",
    "\"\"\"\n",
    "def ggpl_mansard_intersecting_roof_builder2(verts,cells):\n",
    "    \n",
    "#FUNZIONI AUSILIARIE ------------------------------------------------------------------------#\n",
    "\n",
    "    \"\"\"planarity_check(verts) è una funzione che preso in input una lista di n vertici\n",
    "    controlla la loro complanarità, restituendo False se non sono complanari, True altrimenti.\n",
    "    \n",
    "    @verts = lista di n vertici\n",
    "    \"\"\"\n",
    "    def planarity_check(verts):\n",
    "        \"\"\"in an n-dimensional space (n>=3) a set of k points are cooplanar if and only if \n",
    "        the matrix of their relative differences is of rank 2 or less\n",
    "        \"\"\"\n",
    "        #meno di 4 punti = coplanare\n",
    "        if(len(verts)>3):\n",
    "            lastPoint = verts[-1]\n",
    "            checkMatrix = verts[0:-1]\n",
    "            for i in range(len(checkMatrix)):\n",
    "                #ad ogni punto rimasto sottraggo l'ultimo punto\n",
    "                checkMatrix[i] = np.subtract(checkMatrix[i],lastPoint)\n",
    "            if(linalg.matrix_rank(matrix(checkMatrix))>2): #controllo rank\n",
    "                return False\n",
    "        return True\n",
    "\n",
    "    \n",
    "    \"\"\"faces_planarity_check(verts,cells) è una funzione che preso in input una lista di n vertici\n",
    "     e una lista di n celle, controlla la complanarità dei punti per ogni cella, \n",
    "     restituendo False se non sono complanari, True altrimenti.\n",
    "    \n",
    "    @verts = lista di n vertici\n",
    "    @cells lista di celle\n",
    "    \"\"\"\n",
    "    def faces_planarity_check(verts, cells):\n",
    "        for cell in cells:\n",
    "            vertsToCheck = []\n",
    "            for i in cell:\n",
    "                 vertsToCheck += [verts[i-1]] \n",
    "            if(not planarity_check(vertsToCheck)):\n",
    "                return False\n",
    "        return True\n",
    "    \n",
    "    \"\"\"get_new_verts() è una funzione che data una lista di vertici che contiene dei punti con z != 0\n",
    "    che hanno una proiezione sul piano XY con z=0, rimpiazza quei punti con il corrispettivo che ha z != 0\n",
    "    \n",
    "    @verts = lista vertici\n",
    "    \"\"\"\n",
    "    def get_new_verts(verts):\n",
    "        for vert in verts:\n",
    "            if(vert[2]==0):\n",
    "                match = [v for v in verts if(vert[0]==v[0] and vert[1] == v[1] and v[2]>0)]\n",
    "                if(len(match)>0):\n",
    "                    verts[verts.index(vert)] = match[0]\n",
    "        return verts\n",
    "    \n",
    "    \"\"\"remove_base_cells è una funzione che data in input una lista di vertici e una lista di celle\n",
    "    restituisce una lista di celle come quella originale priva di quelle celle che identificano un \n",
    "    piano parallelo a XY\n",
    "    \n",
    "    @verts = lista vertici\n",
    "    @cells = lista celle\n",
    "    \"\"\"\n",
    "    def remove_base_cells(verts,cells):\n",
    "        newCells = []\n",
    "        for cell in cells:\n",
    "            z = []\n",
    "            for i in cell:\n",
    "                z += [verts[i-1][2]]\n",
    "            z = list(x for x,_ in itertools.groupby(z))\n",
    "            if (len(z) > 1):\n",
    "                newCells += [cell]\n",
    "        return newCells\n",
    "    \n",
    "    \"\"\"create_roof(hpc) è una funzione che preso in input un valore hpc di un tetto grezzo\n",
    "    ne estrae vertici e celle tramite la funzione UKPOL\n",
    "    ne verifica la complanarità tramite la funzione faces_planarity_check\n",
    "    rimuove vertici e celle non necessarie per la copertura del tetto tramite le funzioni\n",
    "    get_new_verts e remove_base_cells\n",
    "    restituisce una struttura composta dallo scheletro delle travi e la copertura del tetto\n",
    "    \n",
    "    @hpc = hpc value della struttura di un tetto grezzo\n",
    "    \"\"\" \n",
    "    def create_roof(hpc):\n",
    "        ukInfo = UKPOL(SKEL_2(hpc))\n",
    "        if(not faces_planarity_check(ukInfo[0],ukInfo[1])): #ckeck planarity tramite f. ausiliaria\n",
    "            return None\n",
    "\n",
    "        beams = STRUCT([OFFSET([0.2,0.2,0.2])(SKEL_1(hpc))]) #struttura delle travi\n",
    "\n",
    "        verts = list([round(x,3),round(y,3), round(z,3)] for [x,y,z] in ukInfo[0])\n",
    "        verts = get_new_verts(verts) #rimuovo vertici interni che non servono per la copertura\n",
    "\n",
    "        #rimuovo piani interni che non servono per la copertura\n",
    "        cells = remove_base_cells(verts,ukInfo[1])\n",
    "\n",
    "        faces = STRUCT([OFFSET([0.2,0.2,0.2]),(MKPOL([verts, cells, None]))])\n",
    "\n",
    "        return STRUCT([T(3)(10),beams,T([3])([0.2]),COLOR(RED)(faces)])\n",
    "\n",
    "\n",
    "#FINE FUNZIONI AUSILIARIE ----------------------------------------------------------------#\n",
    "\n",
    "    startRoof = (MKPOL([verts,cells,None])) #tetto di partenza\n",
    "    return create_roof(startRoof)"
   ]
  },
  {
   "cell_type": "markdown",
   "metadata": {},
   "source": [
    "### Esempio prima tipologia: Mansard Roof"
   ]
  },
  {
   "cell_type": "code",
   "execution_count": 14,
   "metadata": {
    "collapsed": false
   },
   "outputs": [
    {
     "data": {
      "text/plain": [
       "<pyplasm.xgepy.Hpc; proxy of <Swig Object of type 'std::shared_ptr< Hpc > *' at 0x000000001BEEC390> >"
      ]
     },
     "execution_count": 14,
     "metadata": {},
     "output_type": "execute_result"
    }
   ],
   "source": [
    "#TETTO DI PARTENZA---------------------------------------------------------------------------#\n",
    "verts = [[7.,5.,5.],[7.,-5.,5.],[-7.,5.,5.],[-7.,-5.,5.], #rect interno\n",
    "          [14.,10.,0],[14.,-10.,0],[-14.,10.,0],[-14.,-10.,0], #rect esterno\n",
    "          [0,0,8.], #punta centrale\n",
    "          [0,5.,5.],[0,10.,5.],[0,16.,5.],#punta prolungamento punti alti\n",
    "          [-7.,10.,0],[7.,10.,0],[-7.,16.,0],[7.,16.,0], #base prolungamento\n",
    "          [7.,5.,0],[7.,-5.,0],[-7.,5.,0],[-7.,-5.,0], #punti con z=0 per travi basse\n",
    "          [0,0,5.], #punta centrale media altezza\n",
    "          [0,10.,0], [0,16.,0] #punta prolungamento punti base\n",
    "        ]   \n",
    "\n",
    "cells = [[1,2,5,6,17,18],[1,3,5,7,17,19],[3,4,7,8,19,20],[2,4,6,8,18,20],\n",
    "         [1,2,3,4,9,17,18,19,20]\n",
    "        ] \n",
    "\n",
    "VIEW(ggpl_mansard_intersecting_roof_builder2(verts,cells))"
   ]
  },
  {
   "cell_type": "markdown",
   "metadata": {},
   "source": [
    "<img src = './caso2tipo1.PNG'>"
   ]
  },
  {
   "cell_type": "markdown",
   "metadata": {},
   "source": [
    "### Esempio secondo Tipologia: Mansard + Intersect Roof"
   ]
  },
  {
   "cell_type": "code",
   "execution_count": 16,
   "metadata": {
    "collapsed": false
   },
   "outputs": [
    {
     "data": {
      "text/plain": [
       "<pyplasm.xgepy.Hpc; proxy of <Swig Object of type 'std::shared_ptr< Hpc > *' at 0x000000001BEEC840> >"
      ]
     },
     "execution_count": 16,
     "metadata": {},
     "output_type": "execute_result"
    }
   ],
   "source": [
    "#TETTO DI PARTENZA---------------------------------------------------------------------------#\n",
    "verts = [[7.,5.,5.],[7.,-5.,5.],[-7.,5.,5.],[-7.,-5.,5.], #rect interno\n",
    "          [14.,10.,0],[14.,-10.,0],[-14.,10.,0],[-14.,-10.,0], #rect esterno\n",
    "          [0,0,8.], #punta centrale\n",
    "          [0,5.,5.],[0,10.,5.],[0,16.,5.],#punta prolungamento punti alti\n",
    "          [-7.,10.,0],[7.,10.,0],[-7.,16.,0],[7.,16.,0], #base prolungamento\n",
    "          [7.,5.,0],[7.,-5.,0],[-7.,5.,0],[-7.,-5.,0], #punti con z=0 per travi basse\n",
    "          [0,0,5.], #punta centrale media altezza\n",
    "          [0,10.,0], [0,16.,0] #punta prolungamento punti base\n",
    "        ]   \n",
    "\n",
    "cells = [[1,2,5,6,17,18],[1,3,5,7,17,19],[3,4,7,8,19,20],[2,4,6,8,18,20],\n",
    "         [1,2,3,4,9,17,18,19,20],\n",
    "         [10,13,11,22],[10,14,11,22],\n",
    "         [13,15,12,11,22,23],[14,16,12,11,22,23]\n",
    "        ] \n",
    "\n",
    "VIEW(ggpl_mansard_intersecting_roof_builder2(verts,cells))"
   ]
  },
  {
   "cell_type": "markdown",
   "metadata": {},
   "source": [
    "<img src = './caso2tipo2.PNG'>"
   ]
  }
 ],
 "metadata": {
  "kernelspec": {
   "display_name": "Python 2",
   "language": "python",
   "name": "python2"
  },
  "language_info": {
   "codemirror_mode": {
    "name": "ipython",
    "version": 2
   },
   "file_extension": ".py",
   "mimetype": "text/x-python",
   "name": "python",
   "nbconvert_exporter": "python",
   "pygments_lexer": "ipython2",
   "version": "2.7.12"
  }
 },
 "nbformat": 4,
 "nbformat_minor": 1
}
