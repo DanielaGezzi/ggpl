{
 "cells": [
  {
   "cell_type": "markdown",
   "metadata": {},
   "source": [
    "# Workshop_07"
   ]
  },
  {
   "cell_type": "markdown",
   "metadata": {},
   "source": [
    "## Porta: immagini di esempio"
   ]
  },
  {
   "cell_type": "markdown",
   "metadata": {},
   "source": [
    "<img src='./example_door.jpg'>"
   ]
  },
  {
   "cell_type": "markdown",
   "metadata": {},
   "source": [
    "### codice:\n",
    "Una funzione *door* di secondo livello alla quale vengono passati 4+3 parametri:\n",
    "\n",
    "* X, Y, Z = lateral quotes di tipo float\n",
    "* occupancy = false [0] per celle vuote, true [1] per celle piene\n",
    "* dx, dy, dz = dimensioni box di contenimento dell'oggetto.\n",
    "\n",
    "Per ogni occorrenza di True nell'array di booleani riempio la cella con un CUBOID(X[i],Y[i],Z[i])"
   ]
  },
  {
   "cell_type": "code",
   "execution_count": 2,
   "metadata": {
    "collapsed": false
   },
   "outputs": [],
   "source": [
    "from larlib import *\n",
    "\n",
    "def door(X,Y,Z, occupancy):\n",
    "    \n",
    "    def door_builder(dx,dy,dz):\n",
    "\n",
    "        thinW = 0.006 #spessore delle parti piu sottili della porta\n",
    "        door = []\n",
    "        #costruisco la finestra in base all'array di booleani occupancy\n",
    "        for y in range(0,len(Y)):\n",
    "\n",
    "            for z in range(0,len(Z)):\n",
    "\n",
    "                for x in range(0,len(X)):\n",
    "\n",
    "                    if (occupancy[z][y][x] == 1):\n",
    "                        door.append(CUBOID([X[x],Y[y],Z[z]]))\n",
    "                        door.append(T(1)(X[x]))\n",
    "                    else:\n",
    "                        if (y == 1):\n",
    "                            door.append(T(2)(Y[y]/2 - thinW/2))\n",
    "                            door.append(COLOR([165./255.,42./255.,42./255.])\n",
    "                                        (CUBOID([X[x],thinW,Z[z]])))\n",
    "                            door.append(T(2)(-Y[y]/2 + thinW/2))\n",
    "                        door.append(T(1)(X[x]))\n",
    "\n",
    "                door.append(T([1,3])([-sum(X),Z[z]]))\n",
    "\n",
    "            door.append(T([2,3])([Y[y],-sum(Z)]))\n",
    "        \n",
    "        #maniglia----------------\n",
    "        handle = STRUCT([T([1,2])([-0.01,-0.05]),CUBOID([0.1,0.02,0.02]),\n",
    "                         T(2)(0.02),CUBOID([0.02,0.03,0.02])])\n",
    "        handlePos =  [sum(X[:2])-X[1]/2, Y[0], sum(Z[:5])-Z[4]/2]\n",
    "        handle = STRUCT([T([1,2,3])(handlePos),handle])\n",
    "        \n",
    "        door = STRUCT(door)\n",
    "        door = STRUCT([COLOR([102./255.,51./255,0])(door),\n",
    "                       COLOR([128./255.,0,0])(handle)])\n",
    "        scaleDim = [dx/SIZE(1)(door),dy/SIZE(2)(door),dz/SIZE(3)(door)]\n",
    "        return STRUCT([S([1,2,3])(scaleDim),door])\n",
    "    return door_builder\n"
   ]
  },
  {
   "cell_type": "markdown",
   "metadata": {},
   "source": [
    "### esempio 1:"
   ]
  },
  {
   "cell_type": "code",
   "execution_count": 4,
   "metadata": {
    "collapsed": false
   },
   "outputs": [
    {
     "data": {
      "text/plain": [
       "<pyplasm.xgepy.Hpc; proxy of <Swig Object of type 'std::shared_ptr< Hpc > *' at 0x000000001B4E0060> >"
      ]
     },
     "execution_count": 4,
     "metadata": {},
     "output_type": "execute_result"
    }
   ],
   "source": [
    "X = [0.1,0.08,0.05,0.05,0.05,0.05,0.05,0.05,0.05,0.08,0.1]\n",
    "Z = [0.08,0.15,0.05,0.25,0.05,0.25,0.05,0.15,0.08,0.1]\n",
    "Y = [0.01,0.03,0.01]\n",
    "occupancy = [[[1,0,0,0,0,0,0,0,0,0,1],[1,1,1,1,1,1,1,1,1,1,1],[1,0,0,0,0,0,0,0,0,0,1]],\n",
    "            [[1,0,0,0,0,0,0,0,0,0,1],[1,1,0,0,0,1,0,0,0,1,1],[1,0,0,0,0,0,0,0,0,0,1]], \n",
    "            [[1,0,0,0,0,0,0,0,0,0,1],[1,1,0,1,1,1,1,1,0,1,1],[1,0,0,0,0,0,0,0,0,0,1]], \n",
    "            [[1,0,0,0,0,0,0,0,0,0,1],[1,1,0,1,0,0,0,1,0,1,1],[1,0,0,0,0,0,0,0,0,0,1]],\n",
    "            [[1,0,0,0,0,0,0,0,0,0,1],[1,1,1,1,0,0,0,1,1,1,1],[1,0,0,0,0,0,0,0,0,0,1]],\n",
    "            [[1,0,0,0,0,0,0,0,0,0,1],[1,1,0,1,0,0,0,1,0,1,1],[1,0,0,0,0,0,0,0,0,0,1]],\n",
    "            [[1,0,0,0,0,0,0,0,0,0,1],[1,1,0,1,1,1,1,1,0,1,1],[1,0,0,0,0,0,0,0,0,0,1]], \n",
    "            [[1,0,0,0,0,0,0,0,0,0,1],[1,1,0,0,0,1,0,0,0,1,1],[1,0,0,0,0,0,0,0,0,0,1]], \n",
    "            [[1,0,0,0,0,0,0,0,0,0,1],[1,1,1,1,1,1,1,1,1,1,1],[1,0,0,0,0,0,0,0,0,0,1]],\n",
    "            [[1,1,1,1,1,1,1,1,1,1,1],[1,1,1,1,1,1,1,1,1,1,1],[1,1,1,1,1,1,1,1,1,1,1]]] \n",
    "\n",
    "VIEW(door(X,Y,Z,occupancy)(1.4,0.2,3.0))"
   ]
  },
  {
   "cell_type": "markdown",
   "metadata": {},
   "source": [
    "<img src='./door1_front.PNG'>"
   ]
  },
  {
   "cell_type": "markdown",
   "metadata": {},
   "source": [
    "<img src = './door1_detail.PNG'>"
   ]
  },
  {
   "cell_type": "markdown",
   "metadata": {},
   "source": [
    "### esempio 2:"
   ]
  },
  {
   "cell_type": "code",
   "execution_count": 8,
   "metadata": {
    "collapsed": false
   },
   "outputs": [
    {
     "data": {
      "text/plain": [
       "<pyplasm.xgepy.Hpc; proxy of <Swig Object of type 'std::shared_ptr< Hpc > *' at 0x000000001B4E0570> >"
      ]
     },
     "execution_count": 8,
     "metadata": {},
     "output_type": "execute_result"
    }
   ],
   "source": [
    "X = [0.1,0.08,0.1,0.05,0.1,0.05,0.1,0.08,0.1]\n",
    "Z = [0.08,0.2,0.05,0.1,0.05,0.2,0.05,0.1,0.08,0.1]\n",
    "Y = [0.01,0.03,0.01]\n",
    "occupancy = [[[1,0,0,0,0,0,0,0,1],[1,1,1,1,1,1,1,1,1],[1,0,0,0,0,0,0,0,1]],\n",
    "            [[1,0,0,0,0,0,0,0,1],[1,1,0,1,0,1,0,1,1],[1,0,0,0,0,0,0,0,1]],\n",
    "            [[1,0,0,0,0,0,0,0,1],[1,1,1,1,1,1,1,1,1],[1,0,0,0,0,0,0,0,1]],\n",
    "            [[1,0,0,0,0,0,0,0,1],[1,1,0,1,0,1,0,1,1],[1,0,0,0,0,0,0,0,1]],\n",
    "            [[1,0,0,0,0,0,0,0,1],[1,1,1,1,1,1,1,1,1],[1,0,0,0,0,0,0,0,1]],\n",
    "            [[1,0,0,0,0,0,0,0,1],[1,1,0,1,0,1,0,1,1],[1,0,0,0,0,0,0,0,1]],\n",
    "            [[1,0,0,0,0,0,0,0,1],[1,1,1,1,1,1,1,1,1],[1,0,0,0,0,0,0,0,1]],\n",
    "            [[1,0,0,0,0,0,0,0,1],[1,1,0,1,0,1,0,1,1],[1,0,0,0,0,0,0,0,1]],\n",
    "            [[1,0,0,0,0,0,0,0,1],[1,1,1,1,1,1,1,1,1],[1,0,0,0,0,0,0,0,1]],\n",
    "            [[1,1,1,1,1,1,1,1,1],[1,1,1,1,1,1,1,1,1],[1,1,1,1,1,1,1,1,1]],] \n",
    "\n",
    "VIEW(door(X,Y,Z,occupancy)(1.6,0.2,3.5))"
   ]
  },
  {
   "cell_type": "markdown",
   "metadata": {},
   "source": [
    "<img src='./door2_front.png'>"
   ]
  },
  {
   "cell_type": "markdown",
   "metadata": {},
   "source": [
    "<img src='./door2_detail.PNG'>"
   ]
  },
  {
   "cell_type": "markdown",
   "metadata": {},
   "source": [
    "## Finestra: immagine di esempio"
   ]
  },
  {
   "cell_type": "markdown",
   "metadata": {},
   "source": [
    "<img src= './example_window.jpg'>"
   ]
  },
  {
   "cell_type": "markdown",
   "metadata": {},
   "source": [
    "### codice:\n",
    "Una funzione *window* di secondo livello alla quale vengono passati 4+3 parametri:\n",
    "\n",
    "* X, Y, Z = lateral quotes di tipo float\n",
    "* occupancy = false [0] per celle vuote, true [1] per celle piene\n",
    "* dx, dy, dz = dimensioni box di contenimento dell'oggetto.\n",
    "\n",
    "Per ogni occorrenza di True nell'array di booleani riempio la cella con un CUBOID(X[i],Y[i],Z[i])"
   ]
  },
  {
   "cell_type": "code",
   "execution_count": 13,
   "metadata": {
    "collapsed": false
   },
   "outputs": [],
   "source": [
    "from larlib import *\n",
    "def ggpl_window(X,Y,Z, occupancy):\n",
    "    \n",
    "    def window_builder(dx,dy,dz):\n",
    "\n",
    "        glassW = 0.006 #glass width\n",
    "        window = []\n",
    "        for y in range(0,len(Y)):\n",
    "\n",
    "            for z in range(0,len(Z)):\n",
    "\n",
    "                for x in range(0,len(X)):\n",
    "\n",
    "                    if (occupancy[z][y][x] == 1):\n",
    "                        window.append(CUBOID([X[x],Y[y],Z[z]]))\n",
    "                        window.append(T(1)(X[x]))\n",
    "                    else:\n",
    "                        if (y == 1):\n",
    "                            window.append(T(2)(Y[y]/2 - glassW/2))\n",
    "                            window.append(COLOR(CYAN)(CUBOID([X[x],glassW,Z[z]])))\n",
    "                            window.append(T(2)(-Y[y]/2 + glassW/2))\n",
    "                        window.append(T(1)(X[x]))\n",
    "\n",
    "                window.append(T([1,3])([-sum(X),Z[z]]))\n",
    "\n",
    "            window.append(T([2,3])([Y[y],-sum(Z)]))\n",
    "        \n",
    "        #maniglia--------------------\n",
    "        handle = STRUCT([T([1,2])([-0.01,-0.05]),CUBOID([0.1,0.02,0.02]),\n",
    "                         T(2)(0.02),CUBOID([0.02,0.03,0.02])])\n",
    "        handlePos =  [sum(X[:(len(X)/2)+1])-X[len(X)/2]/2, Y[0], sum(Z[:(len(Z)/2)+1])-Z[len(Z)/2]/2]\n",
    "        handle = STRUCT([T([1,2,3])(handlePos),handle])\n",
    "        \n",
    "        window = STRUCT(window)\n",
    "        window = STRUCT([COLOR([188./255,159./255.,100./255.])(window),\n",
    "                         COLOR([111./255,94./255.,62./255.])(handle)])\n",
    "        scaleDim = [dx/SIZE(1)(window),dy/SIZE(2)(window),dz/SIZE(3)(window)]\n",
    "        return STRUCT([S([1,2,3])(scaleDim),window])\n",
    "    return window_builder"
   ]
  },
  {
   "cell_type": "markdown",
   "metadata": {},
   "source": [
    "### esempio 1:"
   ]
  },
  {
   "cell_type": "code",
   "execution_count": 14,
   "metadata": {
    "collapsed": false
   },
   "outputs": [
    {
     "data": {
      "text/plain": [
       "<pyplasm.xgepy.Hpc; proxy of <Swig Object of type 'std::shared_ptr< Hpc > *' at 0x000000001B4F4480> >"
      ]
     },
     "execution_count": 14,
     "metadata": {},
     "output_type": "execute_result"
    }
   ],
   "source": [
    "X = [0.1,0.05,0.5,0.05,0.05,0.5,0.05,0.1]\n",
    "Z = [0.1,0.05,0.8,0.05,0.8,0.05,0.1]\n",
    "Y = [0.04,0.02,0.04]\n",
    "occupancy = [[[1,1,1,1,1,1,1,1],[1,1,1,1,1,1,1,1],[1,1,1,1,1,1,1,1]], \n",
    "            [[1,0,0,0,0,0,0,1],[1,1,1,1,1,1,1,1],[1,0,0,0,0,0,0,1]], \n",
    "            [[1,0,0,0,0,0,0,1],[1,1,0,1,1,0,1,1],[1,0,0,0,0,0,0,1]],\n",
    "            [[1,0,0,0,0,0,0,1],[1,1,1,1,1,1,1,1],[1,0,0,0,0,0,0,1]],\n",
    "            [[1,0,0,0,0,0,0,1],[1,1,0,1,1,0,1,1],[1,0,0,0,0,0,0,1]],\n",
    "            [[1,0,0,0,0,0,0,1],[1,1,1,1,1,1,1,1],[1,0,0,0,0,0,0,1]],\n",
    "            [[1,1,1,1,1,1,1,1],[1,1,1,1,1,1,1,1],[1,1,1,1,1,1,1,1]]]  \n",
    "\n",
    "VIEW(ggpl_window(X,Y,Z,occupancy)(1.4,0.1,2.0))"
   ]
  },
  {
   "cell_type": "markdown",
   "metadata": {},
   "source": [
    "<img src = './window1.PNG'>"
   ]
  },
  {
   "cell_type": "markdown",
   "metadata": {
    "collapsed": true
   },
   "source": [
    "### esempio 2:"
   ]
  },
  {
   "cell_type": "code",
   "execution_count": 17,
   "metadata": {
    "collapsed": false
   },
   "outputs": [
    {
     "data": {
      "text/plain": [
       "<pyplasm.xgepy.Hpc; proxy of <Swig Object of type 'std::shared_ptr< Hpc > *' at 0x0000000004B0E0C0> >"
      ]
     },
     "execution_count": 17,
     "metadata": {},
     "output_type": "execute_result"
    }
   ],
   "source": [
    "X = [0.1,0.05,0.05,0.01,0.1,0.01,0.3,0.01,0.1,0.01,0.05,0.05,\n",
    "     0.05,0.05,0.01,0.1,0.01,0.3,0.01,0.1,0.01,0.05,0.05,0.1]\n",
    "Z = [0.1,0.05,0.05,0.01,0.1,0.01,0.5,0.01,0.1,0.01,0.05,0.05,0.1]\n",
    "Y = [0.04,0.02,0.04]\n",
    "\n",
    "occupancy = [[[1,1,1,1,1,1,1,1,1,1,1,1,1,1,1,1,1,1,1,1,1,1,1,1],\n",
    "              [1,1,1,1,1,1,1,1,1,1,1,1,1,1,1,1,1,1,1,1,1,1,1,1],\n",
    "              [1,1,1,1,1,1,1,1,1,1,1,1,1,1,1,1,1,1,1,1,1,1,1,1]],\n",
    "            [[1,0,0,0,0,0,0,0,0,0,0,0,0,0,0,0,0,0,0,0,0,0,0,1],\n",
    "              [1,1,1,1,1,1,1,1,1,1,1,1,1,1,1,1,1,1,1,1,1,1,1,1],\n",
    "              [1,0,0,0,0,0,0,0,0,0,0,0,0,0,0,0,0,0,0,0,0,0,0,1]],\n",
    "            [[1,0,0,0,0,0,0,0,0,0,0,0,0,0,0,0,0,0,0,0,0,0,0,1],\n",
    "              [1,1,0,0,0,1,0,1,0,0,0,1,1,0,0,0,1,0,1,0,0,0,1,1],\n",
    "              [1,0,0,0,0,0,0,0,0,0,0,0,0,0,0,0,0,0,0,0,0,0,0,1]],\n",
    "            [[1,0,0,0,0,0,0,0,0,0,0,0,0,0,0,0,0,0,0,0,0,0,0,1],\n",
    "              [1,1,0,1,1,1,1,1,1,1,0,1,1,0,1,1,1,1,1,1,1,0,1,1],\n",
    "              [1,0,0,0,0,0,0,0,0,0,0,0,0,0,0,0,0,0,0,0,0,0,0,1]],\n",
    "            [[1,0,0,0,0,0,0,0,0,0,0,0,0,0,0,0,0,0,0,0,0,0,0,1],\n",
    "              [1,1,0,1,0,1,0,1,0,1,0,1,1,0,1,0,1,0,1,0,1,0,1,1],\n",
    "              [1,0,0,0,0,0,0,0,0,0,0,0,0,0,0,0,0,0,0,0,0,0,0,1]],\n",
    "            [[1,0,0,0,0,0,0,0,0,0,0,0,0,0,0,0,0,0,0,0,0,0,0,1],\n",
    "              [1,1,1,1,1,1,0,1,1,1,1,1,1,1,1,1,1,0,1,1,1,1,1,1],\n",
    "              [1,0,0,0,0,0,0,0,0,0,0,0,0,0,0,0,0,0,0,0,0,0,0,1]],\n",
    "            [[1,0,0,0,0,0,0,0,0,0,0,0,0,0,0,0,0,0,0,0,0,0,0,1],\n",
    "              [1,1,0,1,0,0,0,0,0,1,0,1,1,0,1,0,0,0,0,0,1,0,1,1],\n",
    "              [1,0,0,0,0,0,0,0,0,0,0,0,0,0,0,0,0,0,0,0,0,0,0,1]],\n",
    "            [[1,0,0,0,0,0,0,0,0,0,0,0,0,0,0,0,0,0,0,0,0,0,0,1],\n",
    "              [1,1,1,1,1,1,0,1,1,1,1,1,1,1,1,1,1,0,1,1,1,1,1,1],\n",
    "              [1,0,0,0,0,0,0,0,0,0,0,0,0,0,0,0,0,0,0,0,0,0,0,1]],\n",
    "            [[1,0,0,0,0,0,0,0,0,0,0,0,0,0,0,0,0,0,0,0,0,0,0,1],\n",
    "              [1,1,0,1,0,1,0,1,0,1,0,1,1,0,1,0,1,0,1,0,1,0,1,1],\n",
    "              [1,0,0,0,0,0,0,0,0,0,0,0,0,0,0,0,0,0,0,0,0,0,0,1]],\n",
    "            [[1,0,0,0,0,0,0,0,0,0,0,0,0,0,0,0,0,0,0,0,0,0,0,1],\n",
    "              [1,1,0,1,1,1,1,1,1,1,0,1,1,0,1,1,1,1,1,1,1,0,1,1],\n",
    "              [1,0,0,0,0,0,0,0,0,0,0,0,0,0,0,0,0,0,0,0,0,0,0,1]],\n",
    "            [[1,0,0,0,0,0,0,0,0,0,0,0,0,0,0,0,0,0,0,0,0,0,0,1],\n",
    "              [1,1,0,0,0,1,0,1,0,0,0,1,1,0,0,0,1,0,1,0,0,0,1,1],\n",
    "              [1,0,0,0,0,0,0,0,0,0,0,0,0,0,0,0,0,0,0,0,0,0,0,1]],\n",
    "            [[1,0,0,0,0,0,0,0,0,0,0,0,0,0,0,0,0,0,0,0,0,0,0,1],\n",
    "              [1,1,1,1,1,1,1,1,1,1,1,1,1,1,1,1,1,1,1,1,1,1,1,1],\n",
    "              [1,0,0,0,0,0,0,0,0,0,0,0,0,0,0,0,0,0,0,0,0,0,0,1]],\n",
    "            [[1,1,1,1,1,1,1,1,1,1,1,1,1,1,1,1,1,1,1,1,1,1,1,1],\n",
    "              [1,1,1,1,1,1,1,1,1,1,1,1,1,1,1,1,1,1,1,1,1,1,1,1],\n",
    "              [1,1,1,1,1,1,1,1,1,1,1,1,1,1,1,1,1,1,1,1,1,1,1,1]]]\n",
    "\n",
    "VIEW(ggpl_window(X,Y,Z,occupancy)(1.0,0.1,1.0))"
   ]
  },
  {
   "cell_type": "markdown",
   "metadata": {},
   "source": [
    "<img src='./window2.PNG'>"
   ]
  },
  {
   "cell_type": "code",
   "execution_count": null,
   "metadata": {
    "collapsed": true
   },
   "outputs": [],
   "source": []
  }
 ],
 "metadata": {
  "kernelspec": {
   "display_name": "Python 2",
   "language": "python",
   "name": "python2"
  },
  "language_info": {
   "codemirror_mode": {
    "name": "ipython",
    "version": 2
   },
   "file_extension": ".py",
   "mimetype": "text/x-python",
   "name": "python",
   "nbconvert_exporter": "python",
   "pygments_lexer": "ipython2",
   "version": "2.7.12"
  }
 },
 "nbformat": 4,
 "nbformat_minor": 1
}
