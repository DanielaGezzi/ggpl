{
 "cells": [
  {
   "cell_type": "markdown",
   "metadata": {},
   "source": [
    "# Workshop_09\n",
    "## Immagine di esempio:\n",
    "\n",
    "Partendo dalla seguente immagine di esempio, il seguente workshop è in grado di creare un \"tetto con terrazzo\" a partire da qualsiasi poligono p assegnato.\n",
    "\n",
    "<img src='./Immagini/esempio1.PNG'>"
   ]
  },
  {
   "cell_type": "markdown",
   "metadata": {},
   "source": [
    "## Codice:\n",
    "Vengono usate più funzioni:\n",
    "* Una funzione primaria *ggpl_create_roof()* che assembla il tetto costruito tramite l'utilizzo di alcune funzioni ausiliarie:\n",
    "    1. Una funzione *create_segment_faces(V)* che data una lista di vertici restituisce la lista di segmenti del poligono\n",
    "    2. Una funzione *get_plane_pitch(A,B,z)* che costruisce una falda piana sul piano XY della lungheza desiderata\n",
    "    3. Una funzione *get_sloping_pitch(A,B,z,rad)* che data la falda piana la inclina di rad radianti\n",
    "    4. Le funzioni *line_from_two_points(A,B)* e *line_line_intersection(line1,line2)* che calcolano rispettivamente l'equazione della retta passante per due punti e le coordinate del punto d'intersezione fra due rette.\n",
    "    5. Una funzione *create_pitch(V1,V2)* che date due liste di vertici rappresentanti il perimetro inferiore e superiore del tetto, restituiscono la struttura delle falde\n",
    "    \n",
    "L'idea è quella di creare per prima cosa delle falde inclinate nel corretto verso di inclinazione partendo da ogni segmento del poligono. Prendere poi per ogni falda i punti ad altezza h!=0, calcolare la retta per due punti ed intersecarla con quella successiva in modo da ottenere iterativamente la lista dei vertici del perimetro superiore del tetto. Con le due liste di vertici perimetrali posso creare ogni falda utilizzando la funzione MKPOL. "
   ]
  },
  {
   "cell_type": "code",
   "execution_count": 3,
   "metadata": {
    "collapsed": false
   },
   "outputs": [],
   "source": [
    "from larlib import *\n",
    "from numpy import *\n",
    "\n",
    "def ggpl_create_roof(V,F,z,rad):\n",
    "    \n",
    "    #FUNZIONI AUSILIARIE ------------------------------------------------------\n",
    "    \n",
    "    def create_segments_faces(V):\n",
    "        #ogni segmento è identificato da una faccia bidimensionale\n",
    "        #esempio [[0,1],[1,2],...]\n",
    "        lines = []\n",
    "        for i in range(len(V)-1):\n",
    "            lines.append([i+1,i+2])\n",
    "        lines.append([len(V),1])\n",
    "        return lines\n",
    "    \n",
    "    \"\"\"retta per 2 punti\"\"\"\n",
    "    def line_from_two_points(A,B):\n",
    "        x1,y1,z1 = A\n",
    "        x2,y2,z2 = B\n",
    "\n",
    "        a = y1 - y2\n",
    "        b = x2 - x1\n",
    "        c = x1*y2 - x2*y1\n",
    "\n",
    "        return [a,b,-c]\n",
    "    \n",
    "    \"\"\"tramite Cramer calcolo il punto x,y d'intersezione fra due rette\"\"\"\n",
    "    def line_line_intersection(r1, r2):\n",
    "        D  = r1[0] * r2[1] - r1[1] * r2[0]\n",
    "        Dx = r1[2] * r2[1] - r1[1] * r2[2]\n",
    "        Dy = r1[0] * r2[2] - r1[2] * r2[0]\n",
    "\n",
    "        if D!=0:\n",
    "            x = Dx/D\n",
    "            y = Dy/D\n",
    "            return [x,y]\n",
    "        else:\n",
    "            return False\n",
    "    \n",
    "    def get_plane_pitch(A,B,z):\n",
    "        x1,y1,z1 = A\n",
    "        x2,y2,z2 = B\n",
    "\n",
    "        angle = ATAN2([(y1-y2),(x2-x1)])\n",
    "\n",
    "        A1 = [x1+COS(angle)*z,y1+SIN(angle)*z,z1]\n",
    "        B2 = [x2+COS(angle)*z,y2+SIN(angle)*z,z2]\n",
    "\n",
    "        planePitch = STRUCT([MKPOL([[A,B,A1,B2],[[1,2,3,4]],None])])\n",
    "        return planePitch\n",
    "    \n",
    "    def get_sloping_pitch(A,B,z,rad):\n",
    "        x1,y1,z1 = A\n",
    "        x2,y2,z2 = B\n",
    "\n",
    "        planePitch = get_plane_pitch(A,B,z) \n",
    "        angle = ATAN2([(x2-x1),(y1-y2)])\n",
    "        #print angle*180/PI\n",
    "\n",
    "        originPitch = T([1,2])([-A[0], -A[1]])(planePitch)\n",
    "        originPitch = R([1,2])(angle)(originPitch)\n",
    "        rotation = R([2,3])(rad)(originPitch)\n",
    "        originPitch = R([1,2])(-angle)(rotation)\n",
    "\n",
    "        slopingPitch = T([1,2])([A[0],A[1]])(originPitch)\n",
    "        return slopingPitch\n",
    "    \n",
    "    def create_pitch(V, interPoints):\n",
    "        VTemp = V + [V[0]] + interPoints + [interPoints[0]]\n",
    "        pitches = []\n",
    "        for i in range(len(V)):\n",
    "            points = [VTemp[i],VTemp[i+1],VTemp[i+1+len(V)],VTemp[i+2+len(V)]]\n",
    "            pitch = STRUCT(MKPOLS([points,[[0,1,2,3]],None]))\n",
    "            pitches.append(pitch)\n",
    "        return TEXTURE(['./immagini/roof_texture.jpg',True, False, 1, 1, PI/2., 5,5])(STRUCT(pitches))\n",
    "\n",
    "    #END FUNZIONI AUSILIARIE---------------------------------------------------\n",
    "    \n",
    "    segments = create_segments_faces(V)\n",
    "    pitches = []\n",
    "    for i in segments:\n",
    "        A = V[i[0]-1]\n",
    "        B = V[i[1]-1]\n",
    "        slopingPitch = get_sloping_pitch(A,B,z,rad)\n",
    "        pitches.append(slopingPitch)\n",
    "\n",
    "    #VIEW(STRUCT(pitches))\n",
    "\n",
    "    lines = []\n",
    "    for i in range(len(pitches)):\n",
    "        #troviamo i punti di ogni falda: quelli con z != 0 \n",
    "        #son quelli per cui vado a calcolare la retta per due punti\n",
    "        pol1 = UKPOL(pitches[i])[0]\n",
    "        points = []\n",
    "        for j in range(len(pol1)):\n",
    "            if (round(pol1[j][2],3) != 0.0) :\n",
    "                h = pol1[j][2]\n",
    "                points.append([round(k,3) for k in pol1[j]])\n",
    "        lines.append(line_from_two_points(points[0],points[1]))\n",
    "\n",
    "    interPoint = line_line_intersection(lines[len(lines)-1], lines[0]) + [h]\n",
    "    interPoints = [[round(k,3) for k in interPoint]]\n",
    "    for i in range(len(lines)-1):\n",
    "        interPoint = line_line_intersection(lines[i], lines[i+1]) + [h]\n",
    "        interPoints.append([round(k,3) for k in interPoint])\n",
    "\n",
    "    platform = TEXTURE(['./immagini/roof_texture.jpg',True, False, 1, 1, PI/2., 5,5])(STRUCT([MKPOL([interPoints,F,1])]))\n",
    "    #VIEW(platform)\n",
    "    \n",
    "    #nel caso in cui non avessi a disposizione le faces del poligono:\n",
    "    #\n",
    "    #polyline = []\n",
    "    #V2d = []\n",
    "    #for point in V:\n",
    "    #   V2d.append([point[0],point[1]])\n",
    "    #V2d.append([V[0][0],V[0][1]])\n",
    "    #platform = SOLIDIFY(STRUCT([POLYLINE(V2d)]))\n",
    "    \n",
    "    pitches = create_pitch(V,interPoints)\n",
    "    #VIEW(pitches)\n",
    "\n",
    "    return STRUCT([platform, pitches])"
   ]
  },
  {
   "cell_type": "markdown",
   "metadata": {},
   "source": [
    "## Esempi"
   ]
  },
  {
   "cell_type": "code",
   "execution_count": 5,
   "metadata": {
    "collapsed": false
   },
   "outputs": [
    {
     "data": {
      "text/plain": [
       "<pyplasm.xgepy.Hpc; proxy of <Swig Object of type 'std::shared_ptr< Hpc > *' at 0x000000001B9D5C00> >"
      ]
     },
     "execution_count": 5,
     "metadata": {},
     "output_type": "execute_result"
    }
   ],
   "source": [
    "V= [[0,0,0],[4,0,0],[4,4,0],[8,2,0],[8,7,0],[0,7,0]]\n",
    "F= [[1,2,3,6],[3,4,5,6]]\n",
    "z = .8\n",
    "rad = PI/4\n",
    "\n",
    "VIEW(ggpl_create_roof(V,F,z,rad))"
   ]
  },
  {
   "cell_type": "markdown",
   "metadata": {},
   "source": [
    "<img src='./Immagini/test1.PNG'>"
   ]
  },
  {
   "cell_type": "code",
   "execution_count": 7,
   "metadata": {
    "collapsed": false
   },
   "outputs": [
    {
     "data": {
      "text/plain": [
       "<pyplasm.xgepy.Hpc; proxy of <Swig Object of type 'std::shared_ptr< Hpc > *' at 0x00000000049C7300> >"
      ]
     },
     "execution_count": 7,
     "metadata": {},
     "output_type": "execute_result"
    }
   ],
   "source": [
    "V= [[0,0,0],[4,0,0],[4,4,0],[8,4,0],[8,0,0],[12,0,0],[12,8,0],[0,8,0]]\n",
    "F= [[1,2,3,8],[3,4,7,8],[4,5,6,7]]\n",
    "z = 1.5\n",
    "rad = PI/4\n",
    "\n",
    "VIEW(ggpl_create_roof(V,F,z,rad))"
   ]
  },
  {
   "cell_type": "markdown",
   "metadata": {},
   "source": [
    "<img src='./Immagini/test2.PNG'>"
   ]
  },
  {
   "cell_type": "code",
   "execution_count": null,
   "metadata": {
    "collapsed": true
   },
   "outputs": [],
   "source": []
  }
 ],
 "metadata": {
  "kernelspec": {
   "display_name": "Python 2",
   "language": "python",
   "name": "python2"
  },
  "language_info": {
   "codemirror_mode": {
    "name": "ipython",
    "version": 2
   },
   "file_extension": ".py",
   "mimetype": "text/x-python",
   "name": "python",
   "nbconvert_exporter": "python",
   "pygments_lexer": "ipython2",
   "version": "2.7.12"
  }
 },
 "nbformat": 4,
 "nbformat_minor": 1
}
